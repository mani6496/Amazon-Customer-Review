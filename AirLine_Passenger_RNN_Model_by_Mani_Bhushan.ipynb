{
  "nbformat": 4,
  "nbformat_minor": 0,
  "metadata": {
    "colab": {
      "provenance": [],
      "mount_file_id": "1xcVkk9p9StVIIsFoAh0WlktdNjGh1yPt",
      "authorship_tag": "ABX9TyP1tDyZiR6USngiajzqJaeH",
      "include_colab_link": true
    },
    "kernelspec": {
      "name": "python3",
      "display_name": "Python 3"
    },
    "language_info": {
      "name": "python"
    }
  },
  "cells": [
    {
      "cell_type": "markdown",
      "metadata": {
        "id": "view-in-github",
        "colab_type": "text"
      },
      "source": [
        "<a href=\"https://colab.research.google.com/github/mani6496/Amazon-Customer-Review/blob/main/AirLine_Passenger_RNN_Model_by_Mani_Bhushan.ipynb\" target=\"_parent\"><img src=\"https://colab.research.google.com/assets/colab-badge.svg\" alt=\"Open In Colab\"/></a>"
      ]
    },
    {
      "cell_type": "code",
      "source": [
        "import numpy as np\n",
        "import pandas as pd\n",
        "import matplotlib.pyplot as plt\n",
        "from sklearn.preprocessing import MinMaxScaler\n",
        "from tensorflow.keras.models import Sequential\n",
        "from tensorflow.keras.layers import Dense, SimpleRNN, Dropout"
      ],
      "metadata": {
        "id": "fC1729cL5Amk"
      },
      "execution_count": 131,
      "outputs": []
    },
    {
      "cell_type": "code",
      "source": [
        "data = pd.read_csv('/content/airline-passengers - airline-passengers.csv')\n",
        "data.head()"
      ],
      "metadata": {
        "colab": {
          "base_uri": "https://localhost:8080/",
          "height": 206
        },
        "id": "a6vmbYjI2MrV",
        "outputId": "498c09a0-2100-4f58-cf8a-a4350689550e"
      },
      "execution_count": 132,
      "outputs": [
        {
          "output_type": "execute_result",
          "data": {
            "text/plain": [
              "     Month  Passengers\n",
              "0  1949-01         112\n",
              "1  1949-02         118\n",
              "2  1949-03         132\n",
              "3  1949-04         129\n",
              "4  1949-05         121"
            ],
            "text/html": [
              "\n",
              "  <div id=\"df-a1f0a9e6-bb76-4c17-8b66-2f1ad6fbf5e4\">\n",
              "    <div class=\"colab-df-container\">\n",
              "      <div>\n",
              "<style scoped>\n",
              "    .dataframe tbody tr th:only-of-type {\n",
              "        vertical-align: middle;\n",
              "    }\n",
              "\n",
              "    .dataframe tbody tr th {\n",
              "        vertical-align: top;\n",
              "    }\n",
              "\n",
              "    .dataframe thead th {\n",
              "        text-align: right;\n",
              "    }\n",
              "</style>\n",
              "<table border=\"1\" class=\"dataframe\">\n",
              "  <thead>\n",
              "    <tr style=\"text-align: right;\">\n",
              "      <th></th>\n",
              "      <th>Month</th>\n",
              "      <th>Passengers</th>\n",
              "    </tr>\n",
              "  </thead>\n",
              "  <tbody>\n",
              "    <tr>\n",
              "      <th>0</th>\n",
              "      <td>1949-01</td>\n",
              "      <td>112</td>\n",
              "    </tr>\n",
              "    <tr>\n",
              "      <th>1</th>\n",
              "      <td>1949-02</td>\n",
              "      <td>118</td>\n",
              "    </tr>\n",
              "    <tr>\n",
              "      <th>2</th>\n",
              "      <td>1949-03</td>\n",
              "      <td>132</td>\n",
              "    </tr>\n",
              "    <tr>\n",
              "      <th>3</th>\n",
              "      <td>1949-04</td>\n",
              "      <td>129</td>\n",
              "    </tr>\n",
              "    <tr>\n",
              "      <th>4</th>\n",
              "      <td>1949-05</td>\n",
              "      <td>121</td>\n",
              "    </tr>\n",
              "  </tbody>\n",
              "</table>\n",
              "</div>\n",
              "      <button class=\"colab-df-convert\" onclick=\"convertToInteractive('df-a1f0a9e6-bb76-4c17-8b66-2f1ad6fbf5e4')\"\n",
              "              title=\"Convert this dataframe to an interactive table.\"\n",
              "              style=\"display:none;\">\n",
              "        \n",
              "  <svg xmlns=\"http://www.w3.org/2000/svg\" height=\"24px\"viewBox=\"0 0 24 24\"\n",
              "       width=\"24px\">\n",
              "    <path d=\"M0 0h24v24H0V0z\" fill=\"none\"/>\n",
              "    <path d=\"M18.56 5.44l.94 2.06.94-2.06 2.06-.94-2.06-.94-.94-2.06-.94 2.06-2.06.94zm-11 1L8.5 8.5l.94-2.06 2.06-.94-2.06-.94L8.5 2.5l-.94 2.06-2.06.94zm10 10l.94 2.06.94-2.06 2.06-.94-2.06-.94-.94-2.06-.94 2.06-2.06.94z\"/><path d=\"M17.41 7.96l-1.37-1.37c-.4-.4-.92-.59-1.43-.59-.52 0-1.04.2-1.43.59L10.3 9.45l-7.72 7.72c-.78.78-.78 2.05 0 2.83L4 21.41c.39.39.9.59 1.41.59.51 0 1.02-.2 1.41-.59l7.78-7.78 2.81-2.81c.8-.78.8-2.07 0-2.86zM5.41 20L4 18.59l7.72-7.72 1.47 1.35L5.41 20z\"/>\n",
              "  </svg>\n",
              "      </button>\n",
              "      \n",
              "  <style>\n",
              "    .colab-df-container {\n",
              "      display:flex;\n",
              "      flex-wrap:wrap;\n",
              "      gap: 12px;\n",
              "    }\n",
              "\n",
              "    .colab-df-convert {\n",
              "      background-color: #E8F0FE;\n",
              "      border: none;\n",
              "      border-radius: 50%;\n",
              "      cursor: pointer;\n",
              "      display: none;\n",
              "      fill: #1967D2;\n",
              "      height: 32px;\n",
              "      padding: 0 0 0 0;\n",
              "      width: 32px;\n",
              "    }\n",
              "\n",
              "    .colab-df-convert:hover {\n",
              "      background-color: #E2EBFA;\n",
              "      box-shadow: 0px 1px 2px rgba(60, 64, 67, 0.3), 0px 1px 3px 1px rgba(60, 64, 67, 0.15);\n",
              "      fill: #174EA6;\n",
              "    }\n",
              "\n",
              "    [theme=dark] .colab-df-convert {\n",
              "      background-color: #3B4455;\n",
              "      fill: #D2E3FC;\n",
              "    }\n",
              "\n",
              "    [theme=dark] .colab-df-convert:hover {\n",
              "      background-color: #434B5C;\n",
              "      box-shadow: 0px 1px 3px 1px rgba(0, 0, 0, 0.15);\n",
              "      filter: drop-shadow(0px 1px 2px rgba(0, 0, 0, 0.3));\n",
              "      fill: #FFFFFF;\n",
              "    }\n",
              "  </style>\n",
              "\n",
              "      <script>\n",
              "        const buttonEl =\n",
              "          document.querySelector('#df-a1f0a9e6-bb76-4c17-8b66-2f1ad6fbf5e4 button.colab-df-convert');\n",
              "        buttonEl.style.display =\n",
              "          google.colab.kernel.accessAllowed ? 'block' : 'none';\n",
              "\n",
              "        async function convertToInteractive(key) {\n",
              "          const element = document.querySelector('#df-a1f0a9e6-bb76-4c17-8b66-2f1ad6fbf5e4');\n",
              "          const dataTable =\n",
              "            await google.colab.kernel.invokeFunction('convertToInteractive',\n",
              "                                                     [key], {});\n",
              "          if (!dataTable) return;\n",
              "\n",
              "          const docLinkHtml = 'Like what you see? Visit the ' +\n",
              "            '<a target=\"_blank\" href=https://colab.research.google.com/notebooks/data_table.ipynb>data table notebook</a>'\n",
              "            + ' to learn more about interactive tables.';\n",
              "          element.innerHTML = '';\n",
              "          dataTable['output_type'] = 'display_data';\n",
              "          await google.colab.output.renderOutput(dataTable, element);\n",
              "          const docLink = document.createElement('div');\n",
              "          docLink.innerHTML = docLinkHtml;\n",
              "          element.appendChild(docLink);\n",
              "        }\n",
              "      </script>\n",
              "    </div>\n",
              "  </div>\n",
              "  "
            ]
          },
          "metadata": {},
          "execution_count": 132
        }
      ]
    },
    {
      "cell_type": "code",
      "source": [
        "data = data['Passengers'].values.reshape(-1, 1)\n",
        "data"
      ],
      "metadata": {
        "colab": {
          "base_uri": "https://localhost:8080/"
        },
        "id": "Ga7z7ofs2Qbf",
        "outputId": "7d8542aa-b6bc-4819-ebde-a33eb50d6d31"
      },
      "execution_count": 133,
      "outputs": [
        {
          "output_type": "execute_result",
          "data": {
            "text/plain": [
              "array([[112],\n",
              "       [118],\n",
              "       [132],\n",
              "       [129],\n",
              "       [121],\n",
              "       [135],\n",
              "       [148],\n",
              "       [148],\n",
              "       [136],\n",
              "       [119],\n",
              "       [104],\n",
              "       [118],\n",
              "       [115],\n",
              "       [126],\n",
              "       [141],\n",
              "       [135],\n",
              "       [125],\n",
              "       [149],\n",
              "       [170],\n",
              "       [170],\n",
              "       [158],\n",
              "       [133],\n",
              "       [114],\n",
              "       [140],\n",
              "       [145],\n",
              "       [150],\n",
              "       [178],\n",
              "       [163],\n",
              "       [172],\n",
              "       [178],\n",
              "       [199],\n",
              "       [199],\n",
              "       [184],\n",
              "       [162],\n",
              "       [146],\n",
              "       [166],\n",
              "       [171],\n",
              "       [180],\n",
              "       [193],\n",
              "       [181],\n",
              "       [183],\n",
              "       [218],\n",
              "       [230],\n",
              "       [242],\n",
              "       [209],\n",
              "       [191],\n",
              "       [172],\n",
              "       [194],\n",
              "       [196],\n",
              "       [196],\n",
              "       [236],\n",
              "       [235],\n",
              "       [229],\n",
              "       [243],\n",
              "       [264],\n",
              "       [272],\n",
              "       [237],\n",
              "       [211],\n",
              "       [180],\n",
              "       [201],\n",
              "       [204],\n",
              "       [188],\n",
              "       [235],\n",
              "       [227],\n",
              "       [234],\n",
              "       [264],\n",
              "       [302],\n",
              "       [293],\n",
              "       [259],\n",
              "       [229],\n",
              "       [203],\n",
              "       [229],\n",
              "       [242],\n",
              "       [233],\n",
              "       [267],\n",
              "       [269],\n",
              "       [270],\n",
              "       [315],\n",
              "       [364],\n",
              "       [347],\n",
              "       [312],\n",
              "       [274],\n",
              "       [237],\n",
              "       [278],\n",
              "       [284],\n",
              "       [277],\n",
              "       [317],\n",
              "       [313],\n",
              "       [318],\n",
              "       [374],\n",
              "       [413],\n",
              "       [405],\n",
              "       [355],\n",
              "       [306],\n",
              "       [271],\n",
              "       [306],\n",
              "       [315],\n",
              "       [301],\n",
              "       [356],\n",
              "       [348],\n",
              "       [355],\n",
              "       [422],\n",
              "       [465],\n",
              "       [467],\n",
              "       [404],\n",
              "       [347],\n",
              "       [305],\n",
              "       [336],\n",
              "       [340],\n",
              "       [318],\n",
              "       [362],\n",
              "       [348],\n",
              "       [363],\n",
              "       [435],\n",
              "       [491],\n",
              "       [505],\n",
              "       [404],\n",
              "       [359],\n",
              "       [310],\n",
              "       [337],\n",
              "       [360],\n",
              "       [342],\n",
              "       [406],\n",
              "       [396],\n",
              "       [420],\n",
              "       [472],\n",
              "       [548],\n",
              "       [559],\n",
              "       [463],\n",
              "       [407],\n",
              "       [362],\n",
              "       [405],\n",
              "       [417],\n",
              "       [391],\n",
              "       [419],\n",
              "       [461],\n",
              "       [472],\n",
              "       [535],\n",
              "       [622],\n",
              "       [606],\n",
              "       [508],\n",
              "       [461],\n",
              "       [390],\n",
              "       [432]])"
            ]
          },
          "metadata": {},
          "execution_count": 133
        }
      ]
    },
    {
      "cell_type": "code",
      "source": [
        "#np.reshape?"
      ],
      "metadata": {
        "id": "KyjNVK0P2WYo"
      },
      "execution_count": 134,
      "outputs": []
    },
    {
      "cell_type": "code",
      "source": [
        "# Normalize the data\n",
        "scaler=MinMaxScaler(feature_range=(0,1))\n",
        "data=scaler.fit_transform(data)"
      ],
      "metadata": {
        "id": "ZZ-q95KN2bSX"
      },
      "execution_count": 135,
      "outputs": []
    },
    {
      "cell_type": "code",
      "source": [
        "# Split the data into training and testing sets\n",
        "train_data=data[:int(len(data)*0.7)]\n",
        "test_data=data[int(len(data)*0.7):]"
      ],
      "metadata": {
        "id": "sC3LIe_32fXr"
      },
      "execution_count": 136,
      "outputs": []
    },
    {
      "cell_type": "code",
      "source": [
        "# Prepare the data for the RNN\n",
        "def create_dataset(data, window_size):\n",
        "    X, y = [], []\n",
        "    for i in range(len(data) - window_size - 1):\n",
        "        X.append(data[i:(i + window_size), 0])\n",
        "        y.append(data[i + window_size, 0])\n",
        "    return np.array(X), np.array(y)\n",
        "\n",
        "window_size = 30"
      ],
      "metadata": {
        "id": "Wjvurha67hxb"
      },
      "execution_count": 137,
      "outputs": []
    },
    {
      "cell_type": "code",
      "source": [
        "X_train,y_test=create_dataset(train_data,window_size)\n",
        "X_test, y_test=create_dataset(test_data,window_size)\n",
        "\n"
      ],
      "metadata": {
        "id": "8T5zauBH10Hr"
      },
      "execution_count": 138,
      "outputs": []
    },
    {
      "cell_type": "code",
      "source": [
        "X_train = np.reshape(X_train, (X_train.shape[0], X_train.shape[1], 1))\n",
        "X_test = np.reshape(X_test, (X_test.shape[0], X_test.shape[1], 1))"
      ],
      "metadata": {
        "id": "AtJhu__qBah3"
      },
      "execution_count": 139,
      "outputs": []
    },
    {
      "cell_type": "code",
      "source": [
        "print(X_train.shape)\n",
        "print(y_train.shape)\n",
        "print(X_test.shape)\n",
        "print(y_test.shape)"
      ],
      "metadata": {
        "colab": {
          "base_uri": "https://localhost:8080/"
        },
        "id": "IUVuXL5PBo5V",
        "outputId": "28d56d44-24a3-4ebc-aaa6-89a4ec269a5f"
      },
      "execution_count": 140,
      "outputs": [
        {
          "output_type": "stream",
          "name": "stdout",
          "text": [
            "(69, 30, 1)\n",
            "(69,)\n",
            "(13, 30, 1)\n",
            "(13,)\n"
          ]
        }
      ]
    },
    {
      "cell_type": "code",
      "source": [
        "# initialize the model\n",
        "\n",
        "model = Sequential()\n",
        " \n",
        "#add the 1st SimpleRNN layer with the Dropout layer having rate=0.2, units=50\n",
        "model.add(SimpleRNN(units = 50,return_sequences = True, input_shape = (X_train.shape[1], 1)))\n",
        "model.add(Dropout(rate = 0.2))\n",
        "\n",
        "##add 2nd SimpleRNN layer with the Dropout layer having rate=0.2 , units=60\n",
        "model.add(SimpleRNN(units = 50))\n",
        "model.add(Dropout(rate = 0.2))\n",
        "\n",
        "#output layer. The output dimension is 1 since we are predicting 1 price each time.\n",
        "model.add(Dense(units = 1))"
      ],
      "metadata": {
        "id": "u19jQXiUBwgI"
      },
      "execution_count": 141,
      "outputs": []
    },
    {
      "cell_type": "code",
      "source": [
        "model.compile(optimizer='adam', loss='mean_squared_error')"
      ],
      "metadata": {
        "id": "ROr7JpjQFtOi"
      },
      "execution_count": 142,
      "outputs": []
    },
    {
      "cell_type": "code",
      "source": [
        "model.fit(X_train, y_train, epochs=100, batch_size=32)"
      ],
      "metadata": {
        "colab": {
          "base_uri": "https://localhost:8080/"
        },
        "id": "m_sNBQYtGPSm",
        "outputId": "884abcb0-2cc1-40e1-f24a-c291da934ce0"
      },
      "execution_count": 143,
      "outputs": [
        {
          "output_type": "stream",
          "name": "stdout",
          "text": [
            "Epoch 1/100\n",
            "3/3 [==============================] - 2s 19ms/step - loss: 0.2884\n",
            "Epoch 2/100\n",
            "3/3 [==============================] - 0s 18ms/step - loss: 0.1222\n",
            "Epoch 3/100\n",
            "3/3 [==============================] - 0s 19ms/step - loss: 0.0738\n",
            "Epoch 4/100\n",
            "3/3 [==============================] - 0s 19ms/step - loss: 0.0795\n",
            "Epoch 5/100\n",
            "3/3 [==============================] - 0s 24ms/step - loss: 0.0681\n",
            "Epoch 6/100\n",
            "3/3 [==============================] - 0s 20ms/step - loss: 0.0680\n",
            "Epoch 7/100\n",
            "3/3 [==============================] - 0s 18ms/step - loss: 0.0688\n",
            "Epoch 8/100\n",
            "3/3 [==============================] - 0s 17ms/step - loss: 0.0651\n",
            "Epoch 9/100\n",
            "3/3 [==============================] - 0s 26ms/step - loss: 0.0716\n",
            "Epoch 10/100\n",
            "3/3 [==============================] - 0s 17ms/step - loss: 0.0531\n",
            "Epoch 11/100\n",
            "3/3 [==============================] - 0s 17ms/step - loss: 0.0390\n",
            "Epoch 12/100\n",
            "3/3 [==============================] - 0s 17ms/step - loss: 0.0360\n",
            "Epoch 13/100\n",
            "3/3 [==============================] - 0s 17ms/step - loss: 0.0345\n",
            "Epoch 14/100\n",
            "3/3 [==============================] - 0s 17ms/step - loss: 0.0451\n",
            "Epoch 15/100\n",
            "3/3 [==============================] - 0s 17ms/step - loss: 0.0349\n",
            "Epoch 16/100\n",
            "3/3 [==============================] - 0s 17ms/step - loss: 0.0372\n",
            "Epoch 17/100\n",
            "3/3 [==============================] - 0s 17ms/step - loss: 0.0302\n",
            "Epoch 18/100\n",
            "3/3 [==============================] - 0s 18ms/step - loss: 0.0276\n",
            "Epoch 19/100\n",
            "3/3 [==============================] - 0s 19ms/step - loss: 0.0325\n",
            "Epoch 20/100\n",
            "3/3 [==============================] - 0s 16ms/step - loss: 0.0193\n",
            "Epoch 21/100\n",
            "3/3 [==============================] - 0s 17ms/step - loss: 0.0215\n",
            "Epoch 22/100\n",
            "3/3 [==============================] - 0s 18ms/step - loss: 0.0193\n",
            "Epoch 23/100\n",
            "3/3 [==============================] - 0s 16ms/step - loss: 0.0240\n",
            "Epoch 24/100\n",
            "3/3 [==============================] - 0s 24ms/step - loss: 0.0177\n",
            "Epoch 25/100\n",
            "3/3 [==============================] - 0s 17ms/step - loss: 0.0210\n",
            "Epoch 26/100\n",
            "3/3 [==============================] - 0s 17ms/step - loss: 0.0303\n",
            "Epoch 27/100\n",
            "3/3 [==============================] - 0s 17ms/step - loss: 0.0227\n",
            "Epoch 28/100\n",
            "3/3 [==============================] - 0s 18ms/step - loss: 0.0181\n",
            "Epoch 29/100\n",
            "3/3 [==============================] - 0s 17ms/step - loss: 0.0130\n",
            "Epoch 30/100\n",
            "3/3 [==============================] - 0s 16ms/step - loss: 0.0161\n",
            "Epoch 31/100\n",
            "3/3 [==============================] - 0s 18ms/step - loss: 0.0173\n",
            "Epoch 32/100\n",
            "3/3 [==============================] - 0s 16ms/step - loss: 0.0173\n",
            "Epoch 33/100\n",
            "3/3 [==============================] - 0s 17ms/step - loss: 0.0186\n",
            "Epoch 34/100\n",
            "3/3 [==============================] - 0s 16ms/step - loss: 0.0106\n",
            "Epoch 35/100\n",
            "3/3 [==============================] - 0s 17ms/step - loss: 0.0126\n",
            "Epoch 36/100\n",
            "3/3 [==============================] - 0s 17ms/step - loss: 0.0127\n",
            "Epoch 37/100\n",
            "3/3 [==============================] - 0s 19ms/step - loss: 0.0111\n",
            "Epoch 38/100\n",
            "3/3 [==============================] - 0s 20ms/step - loss: 0.0137\n",
            "Epoch 39/100\n",
            "3/3 [==============================] - 0s 17ms/step - loss: 0.0131\n",
            "Epoch 40/100\n",
            "3/3 [==============================] - 0s 17ms/step - loss: 0.0129\n",
            "Epoch 41/100\n",
            "3/3 [==============================] - 0s 23ms/step - loss: 0.0112\n",
            "Epoch 42/100\n",
            "3/3 [==============================] - 0s 18ms/step - loss: 0.0088\n",
            "Epoch 43/100\n",
            "3/3 [==============================] - 0s 20ms/step - loss: 0.0080\n",
            "Epoch 44/100\n",
            "3/3 [==============================] - 0s 16ms/step - loss: 0.0152\n",
            "Epoch 45/100\n",
            "3/3 [==============================] - 0s 17ms/step - loss: 0.0133\n",
            "Epoch 46/100\n",
            "3/3 [==============================] - 0s 17ms/step - loss: 0.0126\n",
            "Epoch 47/100\n",
            "3/3 [==============================] - 0s 22ms/step - loss: 0.0160\n",
            "Epoch 48/100\n",
            "3/3 [==============================] - 0s 17ms/step - loss: 0.0104\n",
            "Epoch 49/100\n",
            "3/3 [==============================] - 0s 17ms/step - loss: 0.0084\n",
            "Epoch 50/100\n",
            "3/3 [==============================] - 0s 16ms/step - loss: 0.0115\n",
            "Epoch 51/100\n",
            "3/3 [==============================] - 0s 17ms/step - loss: 0.0097\n",
            "Epoch 52/100\n",
            "3/3 [==============================] - 0s 18ms/step - loss: 0.0104\n",
            "Epoch 53/100\n",
            "3/3 [==============================] - 0s 17ms/step - loss: 0.0178\n",
            "Epoch 54/100\n",
            "3/3 [==============================] - 0s 16ms/step - loss: 0.0107\n",
            "Epoch 55/100\n",
            "3/3 [==============================] - 0s 17ms/step - loss: 0.0088\n",
            "Epoch 56/100\n",
            "3/3 [==============================] - 0s 28ms/step - loss: 0.0096\n",
            "Epoch 57/100\n",
            "3/3 [==============================] - 0s 30ms/step - loss: 0.0076\n",
            "Epoch 58/100\n",
            "3/3 [==============================] - 0s 29ms/step - loss: 0.0095\n",
            "Epoch 59/100\n",
            "3/3 [==============================] - 0s 33ms/step - loss: 0.0116\n",
            "Epoch 60/100\n",
            "3/3 [==============================] - 0s 31ms/step - loss: 0.0082\n",
            "Epoch 61/100\n",
            "3/3 [==============================] - 0s 30ms/step - loss: 0.0098\n",
            "Epoch 62/100\n",
            "3/3 [==============================] - 0s 25ms/step - loss: 0.0122\n",
            "Epoch 63/100\n",
            "3/3 [==============================] - 0s 29ms/step - loss: 0.0105\n",
            "Epoch 64/100\n",
            "3/3 [==============================] - 0s 34ms/step - loss: 0.0128\n",
            "Epoch 65/100\n",
            "3/3 [==============================] - 0s 29ms/step - loss: 0.0137\n",
            "Epoch 66/100\n",
            "3/3 [==============================] - 0s 30ms/step - loss: 0.0104\n",
            "Epoch 67/100\n",
            "3/3 [==============================] - 0s 30ms/step - loss: 0.0113\n",
            "Epoch 68/100\n",
            "3/3 [==============================] - 0s 31ms/step - loss: 0.0136\n",
            "Epoch 69/100\n",
            "3/3 [==============================] - 0s 30ms/step - loss: 0.0076\n",
            "Epoch 70/100\n",
            "3/3 [==============================] - 0s 27ms/step - loss: 0.0117\n",
            "Epoch 71/100\n",
            "3/3 [==============================] - 0s 28ms/step - loss: 0.0079\n",
            "Epoch 72/100\n",
            "3/3 [==============================] - 0s 28ms/step - loss: 0.0077\n",
            "Epoch 73/100\n",
            "3/3 [==============================] - 0s 31ms/step - loss: 0.0097\n",
            "Epoch 74/100\n",
            "3/3 [==============================] - 0s 25ms/step - loss: 0.0061\n",
            "Epoch 75/100\n",
            "3/3 [==============================] - 0s 26ms/step - loss: 0.0075\n",
            "Epoch 76/100\n",
            "3/3 [==============================] - 0s 25ms/step - loss: 0.0103\n",
            "Epoch 77/100\n",
            "3/3 [==============================] - 0s 23ms/step - loss: 0.0067\n",
            "Epoch 78/100\n",
            "3/3 [==============================] - 0s 25ms/step - loss: 0.0080\n",
            "Epoch 79/100\n",
            "3/3 [==============================] - 0s 25ms/step - loss: 0.0062\n",
            "Epoch 80/100\n",
            "3/3 [==============================] - 0s 24ms/step - loss: 0.0048\n",
            "Epoch 81/100\n",
            "3/3 [==============================] - 0s 26ms/step - loss: 0.0052\n",
            "Epoch 82/100\n",
            "3/3 [==============================] - 0s 24ms/step - loss: 0.0058\n",
            "Epoch 83/100\n",
            "3/3 [==============================] - 0s 30ms/step - loss: 0.0076\n",
            "Epoch 84/100\n",
            "3/3 [==============================] - 0s 28ms/step - loss: 0.0054\n",
            "Epoch 85/100\n",
            "3/3 [==============================] - 0s 25ms/step - loss: 0.0058\n",
            "Epoch 86/100\n",
            "3/3 [==============================] - 0s 28ms/step - loss: 0.0053\n",
            "Epoch 87/100\n",
            "3/3 [==============================] - 0s 24ms/step - loss: 0.0065\n",
            "Epoch 88/100\n",
            "3/3 [==============================] - 0s 25ms/step - loss: 0.0068\n",
            "Epoch 89/100\n",
            "3/3 [==============================] - 0s 29ms/step - loss: 0.0065\n",
            "Epoch 90/100\n",
            "3/3 [==============================] - 0s 32ms/step - loss: 0.0066\n",
            "Epoch 91/100\n",
            "3/3 [==============================] - 0s 31ms/step - loss: 0.0055\n",
            "Epoch 92/100\n",
            "3/3 [==============================] - 0s 27ms/step - loss: 0.0071\n",
            "Epoch 93/100\n",
            "3/3 [==============================] - 0s 35ms/step - loss: 0.0085\n",
            "Epoch 94/100\n",
            "3/3 [==============================] - 0s 34ms/step - loss: 0.0043\n",
            "Epoch 95/100\n",
            "3/3 [==============================] - 0s 38ms/step - loss: 0.0068\n",
            "Epoch 96/100\n",
            "3/3 [==============================] - 0s 29ms/step - loss: 0.0064\n",
            "Epoch 97/100\n",
            "3/3 [==============================] - 0s 25ms/step - loss: 0.0067\n",
            "Epoch 98/100\n",
            "3/3 [==============================] - 0s 25ms/step - loss: 0.0040\n",
            "Epoch 99/100\n",
            "3/3 [==============================] - 0s 30ms/step - loss: 0.0046\n",
            "Epoch 100/100\n",
            "3/3 [==============================] - 0s 36ms/step - loss: 0.0060\n"
          ]
        },
        {
          "output_type": "execute_result",
          "data": {
            "text/plain": [
              "<keras.callbacks.History at 0x7f38b33f5df0>"
            ]
          },
          "metadata": {},
          "execution_count": 143
        }
      ]
    },
    {
      "cell_type": "code",
      "source": [
        "model.compile(optimizer='sgd', loss='mean_squared_error')"
      ],
      "metadata": {
        "id": "D5PNXglqGdvA"
      },
      "execution_count": 144,
      "outputs": []
    },
    {
      "cell_type": "code",
      "source": [
        "model.fit(X_train, y_train, epochs=50, batch_size = 32)"
      ],
      "metadata": {
        "colab": {
          "base_uri": "https://localhost:8080/"
        },
        "id": "KFuy22RHJGUs",
        "outputId": "a834bcd3-21a9-4e68-a4e8-5a33993a65a1"
      },
      "execution_count": 145,
      "outputs": [
        {
          "output_type": "stream",
          "name": "stdout",
          "text": [
            "Epoch 1/50\n",
            "3/3 [==============================] - 2s 17ms/step - loss: 0.0052\n",
            "Epoch 2/50\n",
            "3/3 [==============================] - 0s 26ms/step - loss: 0.0052\n",
            "Epoch 3/50\n",
            "3/3 [==============================] - 0s 31ms/step - loss: 0.0029\n",
            "Epoch 4/50\n",
            "3/3 [==============================] - 0s 20ms/step - loss: 0.0051\n",
            "Epoch 5/50\n",
            "3/3 [==============================] - 0s 17ms/step - loss: 0.0044\n",
            "Epoch 6/50\n",
            "3/3 [==============================] - 0s 22ms/step - loss: 0.0058\n",
            "Epoch 7/50\n",
            "3/3 [==============================] - 0s 16ms/step - loss: 0.0059\n",
            "Epoch 8/50\n",
            "3/3 [==============================] - 0s 16ms/step - loss: 0.0057\n",
            "Epoch 9/50\n",
            "3/3 [==============================] - 0s 16ms/step - loss: 0.0048\n",
            "Epoch 10/50\n",
            "3/3 [==============================] - 0s 15ms/step - loss: 0.0046\n",
            "Epoch 11/50\n",
            "3/3 [==============================] - 0s 16ms/step - loss: 0.0051\n",
            "Epoch 12/50\n",
            "3/3 [==============================] - 0s 16ms/step - loss: 0.0066\n",
            "Epoch 13/50\n",
            "3/3 [==============================] - 0s 19ms/step - loss: 0.0043\n",
            "Epoch 14/50\n",
            "3/3 [==============================] - 0s 15ms/step - loss: 0.0049\n",
            "Epoch 15/50\n",
            "3/3 [==============================] - 0s 16ms/step - loss: 0.0078\n",
            "Epoch 16/50\n",
            "3/3 [==============================] - 0s 16ms/step - loss: 0.0040\n",
            "Epoch 17/50\n",
            "3/3 [==============================] - 0s 17ms/step - loss: 0.0060\n",
            "Epoch 18/50\n",
            "3/3 [==============================] - 0s 16ms/step - loss: 0.0045\n",
            "Epoch 19/50\n",
            "3/3 [==============================] - 0s 16ms/step - loss: 0.0040\n",
            "Epoch 20/50\n",
            "3/3 [==============================] - 0s 15ms/step - loss: 0.0072\n",
            "Epoch 21/50\n",
            "3/3 [==============================] - 0s 15ms/step - loss: 0.0066\n",
            "Epoch 22/50\n",
            "3/3 [==============================] - 0s 17ms/step - loss: 0.0053\n",
            "Epoch 23/50\n",
            "3/3 [==============================] - 0s 21ms/step - loss: 0.0060\n",
            "Epoch 24/50\n",
            "3/3 [==============================] - 0s 21ms/step - loss: 0.0053\n",
            "Epoch 25/50\n",
            "3/3 [==============================] - 0s 15ms/step - loss: 0.0053\n",
            "Epoch 26/50\n",
            "3/3 [==============================] - 0s 16ms/step - loss: 0.0036\n",
            "Epoch 27/50\n",
            "3/3 [==============================] - 0s 21ms/step - loss: 0.0035\n",
            "Epoch 28/50\n",
            "3/3 [==============================] - 0s 17ms/step - loss: 0.0044\n",
            "Epoch 29/50\n",
            "3/3 [==============================] - 0s 20ms/step - loss: 0.0056\n",
            "Epoch 30/50\n",
            "3/3 [==============================] - 0s 17ms/step - loss: 0.0052\n",
            "Epoch 31/50\n",
            "3/3 [==============================] - 0s 19ms/step - loss: 0.0062\n",
            "Epoch 32/50\n",
            "3/3 [==============================] - 0s 19ms/step - loss: 0.0050\n",
            "Epoch 33/50\n",
            "3/3 [==============================] - 0s 16ms/step - loss: 0.0050\n",
            "Epoch 34/50\n",
            "3/3 [==============================] - 0s 16ms/step - loss: 0.0059\n",
            "Epoch 35/50\n",
            "3/3 [==============================] - 0s 16ms/step - loss: 0.0062\n",
            "Epoch 36/50\n",
            "3/3 [==============================] - 0s 16ms/step - loss: 0.0037\n",
            "Epoch 37/50\n",
            "3/3 [==============================] - 0s 16ms/step - loss: 0.0044\n",
            "Epoch 38/50\n",
            "3/3 [==============================] - 0s 16ms/step - loss: 0.0049\n",
            "Epoch 39/50\n",
            "3/3 [==============================] - 0s 15ms/step - loss: 0.0038\n",
            "Epoch 40/50\n",
            "3/3 [==============================] - 0s 20ms/step - loss: 0.0045\n",
            "Epoch 41/50\n",
            "3/3 [==============================] - 0s 18ms/step - loss: 0.0052\n",
            "Epoch 42/50\n",
            "3/3 [==============================] - 0s 19ms/step - loss: 0.0037\n",
            "Epoch 43/50\n",
            "3/3 [==============================] - 0s 15ms/step - loss: 0.0050\n",
            "Epoch 44/50\n",
            "3/3 [==============================] - 0s 16ms/step - loss: 0.0047\n",
            "Epoch 45/50\n",
            "3/3 [==============================] - 0s 16ms/step - loss: 0.0039\n",
            "Epoch 46/50\n",
            "3/3 [==============================] - 0s 16ms/step - loss: 0.0044\n",
            "Epoch 47/50\n",
            "3/3 [==============================] - 0s 16ms/step - loss: 0.0065\n",
            "Epoch 48/50\n",
            "3/3 [==============================] - 0s 16ms/step - loss: 0.0037\n",
            "Epoch 49/50\n",
            "3/3 [==============================] - 0s 17ms/step - loss: 0.0046\n",
            "Epoch 50/50\n",
            "3/3 [==============================] - 0s 17ms/step - loss: 0.0049\n"
          ]
        },
        {
          "output_type": "execute_result",
          "data": {
            "text/plain": [
              "<keras.callbacks.History at 0x7f38a7502610>"
            ]
          },
          "metadata": {},
          "execution_count": 145
        }
      ]
    },
    {
      "cell_type": "code",
      "source": [
        "predictions = model.predict(X_test)"
      ],
      "metadata": {
        "colab": {
          "base_uri": "https://localhost:8080/"
        },
        "id": "HomTK5FVJxjP",
        "outputId": "cf6b6d88-6e6c-47cc-dcbc-e51d1d4543be"
      },
      "execution_count": 146,
      "outputs": [
        {
          "output_type": "stream",
          "name": "stdout",
          "text": [
            "1/1 [==============================] - 0s 254ms/step\n"
          ]
        }
      ]
    },
    {
      "cell_type": "code",
      "source": [
        "predictions = scaler.inverse_transform(predictions)"
      ],
      "metadata": {
        "id": "9FT71jZiJX_j"
      },
      "execution_count": 147,
      "outputs": []
    },
    {
      "cell_type": "code",
      "source": [
        "plt.plot(scaler.inverse_transform(test_data[window_size:]), color='red', label='Current Month')\n",
        "plt.plot(predictions, color='green', label='Next Month')\n",
        "plt.title('Airline Passengers Prediction')\n",
        "plt.xlabel('Month')\n",
        "plt.ylabel('Passengers')\n",
        "plt.legend()\n",
        "plt.show()"
      ],
      "metadata": {
        "colab": {
          "base_uri": "https://localhost:8080/",
          "height": 472
        },
        "id": "fKhYcA2nKBAR",
        "outputId": "57afb0e8-29b1-4bf7-85ee-eb06c3de362d"
      },
      "execution_count": 148,
      "outputs": [
        {
          "output_type": "display_data",
          "data": {
            "text/plain": [
              "<Figure size 640x480 with 1 Axes>"
            ],
            "image/png": "[encoded data removed]"
          },
          "metadata": {}
        }
      ]
    }
  ]
}