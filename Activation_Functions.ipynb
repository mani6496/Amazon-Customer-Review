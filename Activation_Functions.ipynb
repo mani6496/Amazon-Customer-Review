{
  "nbformat": 4,
  "nbformat_minor": 0,
  "metadata": {
    "colab": {
      "provenance": [],
      "authorship_tag": "ABX9TyNFYo7CHlx6IGPPuUiYYy1D",
      "include_colab_link": true
    },
    "kernelspec": {
      "name": "python3",
      "display_name": "Python 3"
    },
    "language_info": {
      "name": "python"
    }
  },
  "cells": [
    {
      "cell_type": "markdown",
      "metadata": {
        "id": "view-in-github",
        "colab_type": "text"
      },
      "source": [
        "<a href=\"https://colab.research.google.com/github/mani6496/Amazon-Customer-Review/blob/main/Activation_Functions.ipynb\" target=\"_parent\"><img src=\"https://colab.research.google.com/assets/colab-badge.svg\" alt=\"Open In Colab\"/></a>"
      ]
    },
    {
      "cell_type": "code",
      "execution_count": 64,
      "metadata": {
        "id": "zVrP5niMwzPO"
      },
      "outputs": [],
      "source": [
        "import math\n",
        "import matplotlib.pyplot as plt\n",
        "import numpy as np\n",
        "import matplotlib\n",
        "matplotlib.use('Agg')"
      ]
    },
    {
      "cell_type": "code",
      "source": [
        "def step(x):\n",
        "    return np.array(x > 0, dtype=int)"
      ],
      "metadata": {
        "id": "phIMskc_w8ro"
      },
      "execution_count": 65,
      "outputs": []
    },
    {
      "cell_type": "code",
      "source": [
        "def sigmoid(x):\n",
        "    return 1 / (1 + np.exp(-x))"
      ],
      "metadata": {
        "id": "-XhW3G5Qxe9Z"
      },
      "execution_count": 66,
      "outputs": []
    },
    {
      "cell_type": "code",
      "source": [
        "def relu(x):\n",
        "    return np.maximum(0, x)"
      ],
      "metadata": {
        "id": "SGNCwKMlx1V6"
      },
      "execution_count": 67,
      "outputs": []
    },
    {
      "cell_type": "code",
      "source": [
        "def softmax(x):\n",
        "    return np.exp(x) / np.sum(np.exp(x))"
      ],
      "metadata": {
        "id": "H1b51gF-yAO2"
      },
      "execution_count": 68,
      "outputs": []
    },
    {
      "cell_type": "code",
      "source": [
        "def softplus(x):\n",
        "    return np.log(1.0 + np.exp(x))"
      ],
      "metadata": {
        "id": "bq_McPXRyEDY"
      },
      "execution_count": 69,
      "outputs": []
    },
    {
      "cell_type": "code",
      "source": [
        "def tanh(x):\n",
        "    return np.tanh(x)"
      ],
      "metadata": {
        "id": "EN0hQHrmyH6C"
      },
      "execution_count": 70,
      "outputs": []
    },
    {
      "cell_type": "code",
      "source": [
        "def swish(x):\n",
        "    #return x*sigmoid(x)\n",
        "    return x*(1 / (1 + np.exp(-x)))"
      ],
      "metadata": {
        "id": "fzc9aOxgyRPF"
      },
      "execution_count": 71,
      "outputs": []
    },
    {
      "cell_type": "code",
      "source": [
        "def prelu(x,alpha):\n",
        "    a = []\n",
        "    for item in x:\n",
        "        if item < 0:\n",
        "            a.append(alpha*item)\n",
        "        else:\n",
        "            a.append(item)\n",
        "    return a"
      ],
      "metadata": {
        "id": "SP-jahbJyVVO"
      },
      "execution_count": 72,
      "outputs": []
    },
    {
      "cell_type": "code",
      "source": [
        "def elu(x,alpha):\n",
        "    a = []\n",
        "    for item in x:\n",
        "        if item >= 0:\n",
        "            a.append(item)\n",
        "        else:\n",
        "            a.append(alpha * (np.exp(item)-1))\n",
        "    return a\n"
      ],
      "metadata": {
        "id": "zWCyau23ypLd"
      },
      "execution_count": 73,
      "outputs": []
    },
    {
      "cell_type": "code",
      "source": [
        "x = np.arange(-5., 5., 0.1)"
      ],
      "metadata": {
        "id": "5PsuHjrPyzhb"
      },
      "execution_count": 74,
      "outputs": []
    },
    {
      "cell_type": "code",
      "source": [
        "\n",
        "step=step(x)\n",
        "sigmoid=sigmoid(x)\n",
        "relu=relu(x)\n",
        "softmax=softmax(x)\n",
        "softplus=softplus(x)\n",
        "tanh=tanh(x)\n",
        "prelu=prelu(x,0.1)\n",
        "elu=elu(x,1.0)\n",
        "swish=swish(x)"
      ],
      "metadata": {
        "id": "rgbAzPDny4sq"
      },
      "execution_count": 75,
      "outputs": []
    },
    {
      "cell_type": "code",
      "source": [
        "#grafik çizimleri, plotting\n",
        "\n",
        "plt.figure()\n",
        "plt.xlabel(\"girdiler\")\n",
        "plt.ylabel(\"Scores\")\n",
        "plt.grid(True)\n",
        "plt.plot(x,step, label=\"Step\", color='C0', lw=3)\n",
        "plt.plot(x,sigmoid, label=\"Sigmoid\", color='C1', lw=3)\n",
        "plt.plot(x,relu, label=\"ReLU\", color='C2', lw=3)\n",
        "plt.plot(x,softmax, label=\"Softmax\", color='C3', lw=3)\n",
        "plt.plot(x,softplus, label=\"SoftPlus\", color='C4', lw=3)\n",
        "plt.plot(x,tanh, label=\"TanH\", color='C5', lw=3)\n",
        "plt.plot(x,prelu, label=\"PReLU\", color='C6', lw=3)\n",
        "plt.plot(x,elu, label=\"ELU\", color='C8', lw=3)\n",
        "plt.plot(x,swish, label=\"swish\", color='C9', lw=3)\n",
        "plt.legend()\n",
        "plt.show()\n",
        "plt.savefig(\"all_activation_functions2.tif\", dpi=300)"
      ],
      "metadata": {
        "id": "s5gu4zzRzsdR"
      },
      "execution_count": 76,
      "outputs": []
    },
    {
      "cell_type": "code",
      "source": [
        "def sig(x):\n",
        "    return 1/(1+np.exp(-x))"
      ],
      "metadata": {
        "id": "pu_FOBoQEoU-"
      },
      "execution_count": 77,
      "outputs": []
    },
    {
      "cell_type": "code",
      "source": [
        "x=10000"
      ],
      "metadata": {
        "id": "Fa3VSGsSFbgz"
      },
      "execution_count": 78,
      "outputs": []
    },
    {
      "cell_type": "code",
      "source": [
        "print(sig(x))"
      ],
      "metadata": {
        "colab": {
          "base_uri": "https://localhost:8080/"
        },
        "id": "EzCXZrTgFbs0",
        "outputId": "a5d010c7-7b6e-42ec-e35f-bf430a40c4a0"
      },
      "execution_count": 79,
      "outputs": [
        {
          "output_type": "stream",
          "name": "stdout",
          "text": [
            "1.0\n"
          ]
        }
      ]
    },
    {
      "cell_type": "code",
      "source": [
        "x=-10000"
      ],
      "metadata": {
        "id": "5p7hjZScFb3j"
      },
      "execution_count": 80,
      "outputs": []
    },
    {
      "cell_type": "code",
      "source": [
        "print(sig(x))"
      ],
      "metadata": {
        "colab": {
          "base_uri": "https://localhost:8080/"
        },
        "id": "j6XEOH-UFcDR",
        "outputId": "9e1a169d-f358-4166-ea84-f4c4ba49053a"
      },
      "execution_count": 81,
      "outputs": [
        {
          "output_type": "stream",
          "name": "stdout",
          "text": [
            "0.0\n"
          ]
        },
        {
          "output_type": "stream",
          "name": "stderr",
          "text": [
            "<ipython-input-77-c972459fa05d>:2: RuntimeWarning: overflow encountered in exp\n",
            "  return 1/(1+np.exp(-x))\n"
          ]
        }
      ]
    },
    {
      "cell_type": "code",
      "source": [
        "x=np.linspace(-10000,10000,11)\n",
        "print(x)"
      ],
      "metadata": {
        "colab": {
          "base_uri": "https://localhost:8080/"
        },
        "id": "cYKGYrqXFxjx",
        "outputId": "26c4784b-8784-4c82-da42-6fef1be9fb0a"
      },
      "execution_count": 82,
      "outputs": [
        {
          "output_type": "stream",
          "name": "stdout",
          "text": [
            "[-10000.  -8000.  -6000.  -4000.  -2000.      0.   2000.   4000.   6000.\n",
            "   8000.  10000.]\n"
          ]
        }
      ]
    },
    {
      "cell_type": "code",
      "source": [
        "output=sig(x)"
      ],
      "metadata": {
        "colab": {
          "base_uri": "https://localhost:8080/"
        },
        "id": "gjKyrt-0GMPi",
        "outputId": "a89c88c5-ef92-48e1-c5d6-9cf4f55de837"
      },
      "execution_count": 83,
      "outputs": [
        {
          "output_type": "stream",
          "name": "stderr",
          "text": [
            "<ipython-input-77-c972459fa05d>:2: RuntimeWarning: overflow encountered in exp\n",
            "  return 1/(1+np.exp(-x))\n"
          ]
        }
      ]
    },
    {
      "cell_type": "code",
      "source": [
        "print(output)"
      ],
      "metadata": {
        "colab": {
          "base_uri": "https://localhost:8080/"
        },
        "id": "yXxlCadIGbH5",
        "outputId": "5569e4c1-1505-4157-bae8-e665982aa0b6"
      },
      "execution_count": 84,
      "outputs": [
        {
          "output_type": "stream",
          "name": "stdout",
          "text": [
            "[0.  0.  0.  0.  0.  0.5 1.  1.  1.  1.  1. ]\n"
          ]
        }
      ]
    },
    {
      "cell_type": "code",
      "source": [
        "plt.xlabel('Input')\n",
        "plt.ylabel('Output')\n",
        "plt.plot(x, output)\n",
        "plt.title('Sigmoid Activation Function')\n",
        "plt.show()"
      ],
      "metadata": {
        "id": "lmoaxvo5Gml5"
      },
      "execution_count": 85,
      "outputs": []
    }
  ]
}