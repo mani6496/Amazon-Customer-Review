{
  "nbformat": 4,
  "nbformat_minor": 0,
  "metadata": {
    "colab": {
      "provenance": [],
      "authorship_tag": "ABX9TyMz+WKGFFcZvCMo2ci9E18J",
      "include_colab_link": true
    },
    "kernelspec": {
      "name": "python3",
      "display_name": "Python 3"
    }
  },
  "cells": [
    {
      "cell_type": "markdown",
      "metadata": {
        "id": "view-in-github",
        "colab_type": "text"
      },
      "source": [
        "<a href=\"https://colab.research.google.com/github/mani6496/Amazon-Customer-Review/blob/main/randomForest.ipynb\" target=\"_parent\"><img src=\"https://colab.research.google.com/assets/colab-badge.svg\" alt=\"Open In Colab\"/></a>"
      ]
    },
    {
      "cell_type": "code",
      "metadata": {
        "id": "shBR3c9TwZkz",
        "outputId": "83b6b944-006d-4ab6-c878-1e9024ef1a84",
        "colab": {
          "base_uri": "https://localhost:8080/",
          "height": 71
        }
      },
      "source": [
        "import pandas as pd\n",
        "import numpy as np\n",
        "import matplotlib.pyplot as plt\n",
        "import seaborn as sns\n",
        "%matplotlib inline"
      ],
      "execution_count": null,
      "outputs": [
        {
          "output_type": "stream",
          "text": [
            "/usr/local/lib/python3.6/dist-packages/statsmodels/tools/_testing.py:19: FutureWarning: pandas.util.testing is deprecated. Use the functions in the public API at pandas.testing instead.\n",
            "  import pandas.util.testing as tm\n"
          ],
          "name": "stderr"
        }
      ]
    },
    {
      "cell_type": "code",
      "metadata": {
        "id": "_cxJpybq0WDC",
        "outputId": "6fa4ad42-6fa4-4f5a-f914-906973330370",
        "colab": {
          "base_uri": "https://localhost:8080/",
          "height": 204
        }
      },
      "source": [
        "diabetes = pd.read_csv('pima-indians-diabetes.csv')\n",
        "diabetes.head()"
      ],
      "execution_count": null,
      "outputs": [
        {
          "output_type": "execute_result",
          "data": {
            "text/html": [
              "<div>\n",
              "<style scoped>\n",
              "    .dataframe tbody tr th:only-of-type {\n",
              "        vertical-align: middle;\n",
              "    }\n",
              "\n",
              "    .dataframe tbody tr th {\n",
              "        vertical-align: top;\n",
              "    }\n",
              "\n",
              "    .dataframe thead th {\n",
              "        text-align: right;\n",
              "    }\n",
              "</style>\n",
              "<table border=\"1\" class=\"dataframe\">\n",
              "  <thead>\n",
              "    <tr style=\"text-align: right;\">\n",
              "      <th></th>\n",
              "      <th>6</th>\n",
              "      <th>148</th>\n",
              "      <th>72</th>\n",
              "      <th>35</th>\n",
              "      <th>0</th>\n",
              "      <th>33.6</th>\n",
              "      <th>0.627</th>\n",
              "      <th>50</th>\n",
              "      <th>1</th>\n",
              "    </tr>\n",
              "  </thead>\n",
              "  <tbody>\n",
              "    <tr>\n",
              "      <th>0</th>\n",
              "      <td>1</td>\n",
              "      <td>85</td>\n",
              "      <td>66</td>\n",
              "      <td>29</td>\n",
              "      <td>0</td>\n",
              "      <td>26.6</td>\n",
              "      <td>0.351</td>\n",
              "      <td>31</td>\n",
              "      <td>0</td>\n",
              "    </tr>\n",
              "    <tr>\n",
              "      <th>1</th>\n",
              "      <td>8</td>\n",
              "      <td>183</td>\n",
              "      <td>64</td>\n",
              "      <td>0</td>\n",
              "      <td>0</td>\n",
              "      <td>23.3</td>\n",
              "      <td>0.672</td>\n",
              "      <td>32</td>\n",
              "      <td>1</td>\n",
              "    </tr>\n",
              "    <tr>\n",
              "      <th>2</th>\n",
              "      <td>1</td>\n",
              "      <td>89</td>\n",
              "      <td>66</td>\n",
              "      <td>23</td>\n",
              "      <td>94</td>\n",
              "      <td>28.1</td>\n",
              "      <td>0.167</td>\n",
              "      <td>21</td>\n",
              "      <td>0</td>\n",
              "    </tr>\n",
              "    <tr>\n",
              "      <th>3</th>\n",
              "      <td>0</td>\n",
              "      <td>137</td>\n",
              "      <td>40</td>\n",
              "      <td>35</td>\n",
              "      <td>168</td>\n",
              "      <td>43.1</td>\n",
              "      <td>2.288</td>\n",
              "      <td>33</td>\n",
              "      <td>1</td>\n",
              "    </tr>\n",
              "    <tr>\n",
              "      <th>4</th>\n",
              "      <td>5</td>\n",
              "      <td>116</td>\n",
              "      <td>74</td>\n",
              "      <td>0</td>\n",
              "      <td>0</td>\n",
              "      <td>25.6</td>\n",
              "      <td>0.201</td>\n",
              "      <td>30</td>\n",
              "      <td>0</td>\n",
              "    </tr>\n",
              "  </tbody>\n",
              "</table>\n",
              "</div>"
            ],
            "text/plain": [
              "   6  148  72  35    0  33.6  0.627  50  1\n",
              "0  1   85  66  29    0  26.6  0.351  31  0\n",
              "1  8  183  64   0    0  23.3  0.672  32  1\n",
              "2  1   89  66  23   94  28.1  0.167  21  0\n",
              "3  0  137  40  35  168  43.1  2.288  33  1\n",
              "4  5  116  74   0    0  25.6  0.201  30  0"
            ]
          },
          "metadata": {
            "tags": []
          },
          "execution_count": 2
        }
      ]
    },
    {
      "cell_type": "code",
      "metadata": {
        "id": "tvdLEk8k1XDs"
      },
      "source": [
        "labels=[\"Number of times perganant\",\"Plasms glucose\",\"Diatolic Blood Pressure\",\"Triceps skin fold thickness\",\"2-Hours serum Insulin\",\"Body Mass Index\",\"Deibetes pedigree function\",\"Age(years)\",\"Target\"]\n",
        "diabetes=pd.read_csv(\"pima-indians-diabetes.csv\",names=labels)"
      ],
      "execution_count": null,
      "outputs": []
    },
    {
      "cell_type": "code",
      "metadata": {
        "id": "mK99QDnC1XAU",
        "outputId": "97de97fe-de43-40ef-87e3-83348f01e188",
        "colab": {
          "base_uri": "https://localhost:8080/",
          "height": 238
        }
      },
      "source": [
        "diabetes.head()"
      ],
      "execution_count": null,
      "outputs": [
        {
          "output_type": "execute_result",
          "data": {
            "text/html": [
              "<div>\n",
              "<style scoped>\n",
              "    .dataframe tbody tr th:only-of-type {\n",
              "        vertical-align: middle;\n",
              "    }\n",
              "\n",
              "    .dataframe tbody tr th {\n",
              "        vertical-align: top;\n",
              "    }\n",
              "\n",
              "    .dataframe thead th {\n",
              "        text-align: right;\n",
              "    }\n",
              "</style>\n",
              "<table border=\"1\" class=\"dataframe\">\n",
              "  <thead>\n",
              "    <tr style=\"text-align: right;\">\n",
              "      <th></th>\n",
              "      <th>Number of times perganant</th>\n",
              "      <th>Plasms glucose</th>\n",
              "      <th>Diatolic Blood Pressure</th>\n",
              "      <th>Triceps skin fold thickness</th>\n",
              "      <th>2-Hours serum Insulin</th>\n",
              "      <th>Body Mass Index</th>\n",
              "      <th>Deibetes pedigree function</th>\n",
              "      <th>Age(years)</th>\n",
              "      <th>Target</th>\n",
              "    </tr>\n",
              "  </thead>\n",
              "  <tbody>\n",
              "    <tr>\n",
              "      <th>0</th>\n",
              "      <td>6</td>\n",
              "      <td>148</td>\n",
              "      <td>72</td>\n",
              "      <td>35</td>\n",
              "      <td>0</td>\n",
              "      <td>33.6</td>\n",
              "      <td>0.627</td>\n",
              "      <td>50</td>\n",
              "      <td>1</td>\n",
              "    </tr>\n",
              "    <tr>\n",
              "      <th>1</th>\n",
              "      <td>1</td>\n",
              "      <td>85</td>\n",
              "      <td>66</td>\n",
              "      <td>29</td>\n",
              "      <td>0</td>\n",
              "      <td>26.6</td>\n",
              "      <td>0.351</td>\n",
              "      <td>31</td>\n",
              "      <td>0</td>\n",
              "    </tr>\n",
              "    <tr>\n",
              "      <th>2</th>\n",
              "      <td>8</td>\n",
              "      <td>183</td>\n",
              "      <td>64</td>\n",
              "      <td>0</td>\n",
              "      <td>0</td>\n",
              "      <td>23.3</td>\n",
              "      <td>0.672</td>\n",
              "      <td>32</td>\n",
              "      <td>1</td>\n",
              "    </tr>\n",
              "    <tr>\n",
              "      <th>3</th>\n",
              "      <td>1</td>\n",
              "      <td>89</td>\n",
              "      <td>66</td>\n",
              "      <td>23</td>\n",
              "      <td>94</td>\n",
              "      <td>28.1</td>\n",
              "      <td>0.167</td>\n",
              "      <td>21</td>\n",
              "      <td>0</td>\n",
              "    </tr>\n",
              "    <tr>\n",
              "      <th>4</th>\n",
              "      <td>0</td>\n",
              "      <td>137</td>\n",
              "      <td>40</td>\n",
              "      <td>35</td>\n",
              "      <td>168</td>\n",
              "      <td>43.1</td>\n",
              "      <td>2.288</td>\n",
              "      <td>33</td>\n",
              "      <td>1</td>\n",
              "    </tr>\n",
              "  </tbody>\n",
              "</table>\n",
              "</div>"
            ],
            "text/plain": [
              "   Number of times perganant  Plasms glucose  ...  Age(years)  Target\n",
              "0                          6             148  ...          50       1\n",
              "1                          1              85  ...          31       0\n",
              "2                          8             183  ...          32       1\n",
              "3                          1              89  ...          21       0\n",
              "4                          0             137  ...          33       1\n",
              "\n",
              "[5 rows x 9 columns]"
            ]
          },
          "metadata": {
            "tags": []
          },
          "execution_count": 4
        }
      ]
    },
    {
      "cell_type": "code",
      "metadata": {
        "id": "VbGsmufr1W9I",
        "outputId": "3da1cddb-d1f7-4e6a-d36a-af5f7c90a26d",
        "colab": {
          "base_uri": "https://localhost:8080/",
          "height": 187
        }
      },
      "source": [
        "diabetes.dtypes"
      ],
      "execution_count": null,
      "outputs": [
        {
          "output_type": "execute_result",
          "data": {
            "text/plain": [
              "Number of times perganant        int64\n",
              "Plasms glucose                   int64\n",
              "Diatolic Blood Pressure          int64\n",
              "Triceps skin fold thickness      int64\n",
              "2-Hours serum Insulin            int64\n",
              "Body Mass Index                float64\n",
              "Deibetes pedigree function     float64\n",
              "Age(years)                       int64\n",
              "Target                           int64\n",
              "dtype: object"
            ]
          },
          "metadata": {
            "tags": []
          },
          "execution_count": 5
        }
      ]
    },
    {
      "cell_type": "code",
      "metadata": {
        "id": "y2X7hvcn4RaE"
      },
      "source": [
        "diabetes['Target']=diabetes['Target'].astype('category')"
      ],
      "execution_count": null,
      "outputs": []
    },
    {
      "cell_type": "code",
      "metadata": {
        "id": "feVf5iYQ1W5K",
        "outputId": "14e30a8c-e67f-4bf5-b2cf-fa8272fd9988",
        "colab": {
          "base_uri": "https://localhost:8080/",
          "height": 187
        }
      },
      "source": [
        "diabetes.dtypes"
      ],
      "execution_count": null,
      "outputs": [
        {
          "output_type": "execute_result",
          "data": {
            "text/plain": [
              "Number of times perganant         int64\n",
              "Plasms glucose                    int64\n",
              "Diatolic Blood Pressure           int64\n",
              "Triceps skin fold thickness       int64\n",
              "2-Hours serum Insulin             int64\n",
              "Body Mass Index                 float64\n",
              "Deibetes pedigree function      float64\n",
              "Age(years)                        int64\n",
              "Target                         category\n",
              "dtype: object"
            ]
          },
          "metadata": {
            "tags": []
          },
          "execution_count": 7
        }
      ]
    },
    {
      "cell_type": "code",
      "metadata": {
        "id": "YCfPkxWL4492",
        "outputId": "8fbb8269-879a-4295-f60b-4cf5e749b25b",
        "colab": {
          "base_uri": "https://localhost:8080/",
          "height": 331
        }
      },
      "source": [
        "diabetes.describe()"
      ],
      "execution_count": null,
      "outputs": [
        {
          "output_type": "execute_result",
          "data": {
            "text/html": [
              "<div>\n",
              "<style scoped>\n",
              "    .dataframe tbody tr th:only-of-type {\n",
              "        vertical-align: middle;\n",
              "    }\n",
              "\n",
              "    .dataframe tbody tr th {\n",
              "        vertical-align: top;\n",
              "    }\n",
              "\n",
              "    .dataframe thead th {\n",
              "        text-align: right;\n",
              "    }\n",
              "</style>\n",
              "<table border=\"1\" class=\"dataframe\">\n",
              "  <thead>\n",
              "    <tr style=\"text-align: right;\">\n",
              "      <th></th>\n",
              "      <th>Number of times perganant</th>\n",
              "      <th>Plasms glucose</th>\n",
              "      <th>Diatolic Blood Pressure</th>\n",
              "      <th>Triceps skin fold thickness</th>\n",
              "      <th>2-Hours serum Insulin</th>\n",
              "      <th>Body Mass Index</th>\n",
              "      <th>Deibetes pedigree function</th>\n",
              "      <th>Age(years)</th>\n",
              "    </tr>\n",
              "  </thead>\n",
              "  <tbody>\n",
              "    <tr>\n",
              "      <th>count</th>\n",
              "      <td>768.000000</td>\n",
              "      <td>768.000000</td>\n",
              "      <td>768.000000</td>\n",
              "      <td>768.000000</td>\n",
              "      <td>768.000000</td>\n",
              "      <td>768.000000</td>\n",
              "      <td>768.000000</td>\n",
              "      <td>768.000000</td>\n",
              "    </tr>\n",
              "    <tr>\n",
              "      <th>mean</th>\n",
              "      <td>3.845052</td>\n",
              "      <td>120.894531</td>\n",
              "      <td>69.105469</td>\n",
              "      <td>20.536458</td>\n",
              "      <td>79.799479</td>\n",
              "      <td>31.992578</td>\n",
              "      <td>0.471876</td>\n",
              "      <td>33.240885</td>\n",
              "    </tr>\n",
              "    <tr>\n",
              "      <th>std</th>\n",
              "      <td>3.369578</td>\n",
              "      <td>31.972618</td>\n",
              "      <td>19.355807</td>\n",
              "      <td>15.952218</td>\n",
              "      <td>115.244002</td>\n",
              "      <td>7.884160</td>\n",
              "      <td>0.331329</td>\n",
              "      <td>11.760232</td>\n",
              "    </tr>\n",
              "    <tr>\n",
              "      <th>min</th>\n",
              "      <td>0.000000</td>\n",
              "      <td>0.000000</td>\n",
              "      <td>0.000000</td>\n",
              "      <td>0.000000</td>\n",
              "      <td>0.000000</td>\n",
              "      <td>0.000000</td>\n",
              "      <td>0.078000</td>\n",
              "      <td>21.000000</td>\n",
              "    </tr>\n",
              "    <tr>\n",
              "      <th>25%</th>\n",
              "      <td>1.000000</td>\n",
              "      <td>99.000000</td>\n",
              "      <td>62.000000</td>\n",
              "      <td>0.000000</td>\n",
              "      <td>0.000000</td>\n",
              "      <td>27.300000</td>\n",
              "      <td>0.243750</td>\n",
              "      <td>24.000000</td>\n",
              "    </tr>\n",
              "    <tr>\n",
              "      <th>50%</th>\n",
              "      <td>3.000000</td>\n",
              "      <td>117.000000</td>\n",
              "      <td>72.000000</td>\n",
              "      <td>23.000000</td>\n",
              "      <td>30.500000</td>\n",
              "      <td>32.000000</td>\n",
              "      <td>0.372500</td>\n",
              "      <td>29.000000</td>\n",
              "    </tr>\n",
              "    <tr>\n",
              "      <th>75%</th>\n",
              "      <td>6.000000</td>\n",
              "      <td>140.250000</td>\n",
              "      <td>80.000000</td>\n",
              "      <td>32.000000</td>\n",
              "      <td>127.250000</td>\n",
              "      <td>36.600000</td>\n",
              "      <td>0.626250</td>\n",
              "      <td>41.000000</td>\n",
              "    </tr>\n",
              "    <tr>\n",
              "      <th>max</th>\n",
              "      <td>17.000000</td>\n",
              "      <td>199.000000</td>\n",
              "      <td>122.000000</td>\n",
              "      <td>99.000000</td>\n",
              "      <td>846.000000</td>\n",
              "      <td>67.100000</td>\n",
              "      <td>2.420000</td>\n",
              "      <td>81.000000</td>\n",
              "    </tr>\n",
              "  </tbody>\n",
              "</table>\n",
              "</div>"
            ],
            "text/plain": [
              "       Number of times perganant  ...  Age(years)\n",
              "count                 768.000000  ...  768.000000\n",
              "mean                    3.845052  ...   33.240885\n",
              "std                     3.369578  ...   11.760232\n",
              "min                     0.000000  ...   21.000000\n",
              "25%                     1.000000  ...   24.000000\n",
              "50%                     3.000000  ...   29.000000\n",
              "75%                     6.000000  ...   41.000000\n",
              "max                    17.000000  ...   81.000000\n",
              "\n",
              "[8 rows x 8 columns]"
            ]
          },
          "metadata": {
            "tags": []
          },
          "execution_count": 8
        }
      ]
    },
    {
      "cell_type": "code",
      "metadata": {
        "id": "re95F9ok46Fi",
        "outputId": "ebe0571d-9861-449a-97e6-a3d39209783d",
        "colab": {
          "base_uri": "https://localhost:8080/",
          "height": 68
        }
      },
      "source": [
        "diabetes['Target'].value_counts()"
      ],
      "execution_count": null,
      "outputs": [
        {
          "output_type": "execute_result",
          "data": {
            "text/plain": [
              "0    500\n",
              "1    268\n",
              "Name: Target, dtype: int64"
            ]
          },
          "metadata": {
            "tags": []
          },
          "execution_count": 9
        }
      ]
    },
    {
      "cell_type": "code",
      "metadata": {
        "id": "hadkzpuV46Cp",
        "outputId": "f73b2439-7429-485a-c055-3e43d26a31ce",
        "colab": {
          "base_uri": "https://localhost:8080/",
          "height": 265
        }
      },
      "source": [
        "fig,axes=plt.subplots()\n",
        "sns.boxplot(data=diabetes,orient='h',palette=\"Set2\")\n",
        "plt.show()"
      ],
      "execution_count": null,
      "outputs": [
        {
          "output_type": "display_data",
          "data": {
            "image/png": "[encoded data removed]",
            "text/plain": [
              "<Figure size 432x288 with 1 Axes>"
            ]
          },
          "metadata": {
            "tags": [],
            "needs_background": "light"
          }
        }
      ]
    },
    {
      "cell_type": "code",
      "metadata": {
        "id": "ZHp9boAb45_C"
      },
      "source": [
        "q75,q25=np.percentile(diabetes[\"2-Hours serum Insulin\"],[75,25])"
      ],
      "execution_count": null,
      "outputs": []
    },
    {
      "cell_type": "code",
      "metadata": {
        "id": "U4X383lV457_",
        "outputId": "f55ba053-0a58-4946-998e-772df8c4eb29",
        "colab": {
          "base_uri": "https://localhost:8080/",
          "height": 34
        }
      },
      "source": [
        "q25"
      ],
      "execution_count": null,
      "outputs": [
        {
          "output_type": "execute_result",
          "data": {
            "text/plain": [
              "0.0"
            ]
          },
          "metadata": {
            "tags": []
          },
          "execution_count": 12
        }
      ]
    },
    {
      "cell_type": "code",
      "metadata": {
        "id": "MhZgO4Vf4543",
        "outputId": "c0f0ac3e-1450-4032-a353-dc41612f0865",
        "colab": {
          "base_uri": "https://localhost:8080/",
          "height": 34
        }
      },
      "source": [
        "q75"
      ],
      "execution_count": null,
      "outputs": [
        {
          "output_type": "execute_result",
          "data": {
            "text/plain": [
              "127.25"
            ]
          },
          "metadata": {
            "tags": []
          },
          "execution_count": 13
        }
      ]
    },
    {
      "cell_type": "code",
      "metadata": {
        "id": "pQwXD093-Odj"
      },
      "source": [
        "iqr = q75-q25"
      ],
      "execution_count": null,
      "outputs": []
    },
    {
      "cell_type": "code",
      "metadata": {
        "id": "Dw9hRrCi-Pcv"
      },
      "source": [
        "whisker=q75 + (1.5*iqr)"
      ],
      "execution_count": null,
      "outputs": []
    },
    {
      "cell_type": "code",
      "metadata": {
        "id": "ndw4_ChR-PpD",
        "outputId": "ab01c5eb-1d6b-417f-8621-10b21b67d104",
        "colab": {
          "base_uri": "https://localhost:8080/",
          "height": 34
        }
      },
      "source": [
        "whisker"
      ],
      "execution_count": null,
      "outputs": [
        {
          "output_type": "execute_result",
          "data": {
            "text/plain": [
              "318.125"
            ]
          },
          "metadata": {
            "tags": []
          },
          "execution_count": 16
        }
      ]
    },
    {
      "cell_type": "code",
      "metadata": {
        "id": "zKcLBNHU-P0Z"
      },
      "source": [
        "diabetes[\"2-Hours serum Insulin\"]=diabetes[\"2-Hours serum Insulin\"].clip(upper=whisker)"
      ],
      "execution_count": null,
      "outputs": []
    },
    {
      "cell_type": "code",
      "metadata": {
        "id": "DBvqHZB--P_0",
        "outputId": "165f2106-ced3-48e6-a1ba-d87b2dbe56f0",
        "colab": {
          "base_uri": "https://localhost:8080/",
          "height": 265
        }
      },
      "source": [
        "fig,axes=plt.subplots()\n",
        "sns.boxplot(data=diabetes,orient='h',palette=\"Set2\")\n",
        "plt.show()"
      ],
      "execution_count": null,
      "outputs": [
        {
          "output_type": "display_data",
          "data": {
            "image/png": "[encoded data removed]",
            "text/plain": [
              "<Figure size 432x288 with 1 Axes>"
            ]
          },
          "metadata": {
            "tags": [],
            "needs_background": "light"
          }
        }
      ]
    },
    {
      "cell_type": "code",
      "metadata": {
        "id": "sCdBbGqm-QTp",
        "outputId": "6d938c63-bfb7-485b-935c-83673cb388c2",
        "colab": {
          "base_uri": "https://localhost:8080/",
          "height": 238
        }
      },
      "source": [
        "# check missing value\n",
        "diabetes.head()"
      ],
      "execution_count": null,
      "outputs": [
        {
          "output_type": "execute_result",
          "data": {
            "text/html": [
              "<div>\n",
              "<style scoped>\n",
              "    .dataframe tbody tr th:only-of-type {\n",
              "        vertical-align: middle;\n",
              "    }\n",
              "\n",
              "    .dataframe tbody tr th {\n",
              "        vertical-align: top;\n",
              "    }\n",
              "\n",
              "    .dataframe thead th {\n",
              "        text-align: right;\n",
              "    }\n",
              "</style>\n",
              "<table border=\"1\" class=\"dataframe\">\n",
              "  <thead>\n",
              "    <tr style=\"text-align: right;\">\n",
              "      <th></th>\n",
              "      <th>Number of times perganant</th>\n",
              "      <th>Plasms glucose</th>\n",
              "      <th>Diatolic Blood Pressure</th>\n",
              "      <th>Triceps skin fold thickness</th>\n",
              "      <th>2-Hours serum Insulin</th>\n",
              "      <th>Body Mass Index</th>\n",
              "      <th>Deibetes pedigree function</th>\n",
              "      <th>Age(years)</th>\n",
              "      <th>Target</th>\n",
              "    </tr>\n",
              "  </thead>\n",
              "  <tbody>\n",
              "    <tr>\n",
              "      <th>0</th>\n",
              "      <td>6</td>\n",
              "      <td>148</td>\n",
              "      <td>72</td>\n",
              "      <td>35</td>\n",
              "      <td>0.0</td>\n",
              "      <td>33.6</td>\n",
              "      <td>0.627</td>\n",
              "      <td>50</td>\n",
              "      <td>1</td>\n",
              "    </tr>\n",
              "    <tr>\n",
              "      <th>1</th>\n",
              "      <td>1</td>\n",
              "      <td>85</td>\n",
              "      <td>66</td>\n",
              "      <td>29</td>\n",
              "      <td>0.0</td>\n",
              "      <td>26.6</td>\n",
              "      <td>0.351</td>\n",
              "      <td>31</td>\n",
              "      <td>0</td>\n",
              "    </tr>\n",
              "    <tr>\n",
              "      <th>2</th>\n",
              "      <td>8</td>\n",
              "      <td>183</td>\n",
              "      <td>64</td>\n",
              "      <td>0</td>\n",
              "      <td>0.0</td>\n",
              "      <td>23.3</td>\n",
              "      <td>0.672</td>\n",
              "      <td>32</td>\n",
              "      <td>1</td>\n",
              "    </tr>\n",
              "    <tr>\n",
              "      <th>3</th>\n",
              "      <td>1</td>\n",
              "      <td>89</td>\n",
              "      <td>66</td>\n",
              "      <td>23</td>\n",
              "      <td>94.0</td>\n",
              "      <td>28.1</td>\n",
              "      <td>0.167</td>\n",
              "      <td>21</td>\n",
              "      <td>0</td>\n",
              "    </tr>\n",
              "    <tr>\n",
              "      <th>4</th>\n",
              "      <td>0</td>\n",
              "      <td>137</td>\n",
              "      <td>40</td>\n",
              "      <td>35</td>\n",
              "      <td>168.0</td>\n",
              "      <td>43.1</td>\n",
              "      <td>2.288</td>\n",
              "      <td>33</td>\n",
              "      <td>1</td>\n",
              "    </tr>\n",
              "  </tbody>\n",
              "</table>\n",
              "</div>"
            ],
            "text/plain": [
              "   Number of times perganant  Plasms glucose  ...  Age(years)  Target\n",
              "0                          6             148  ...          50       1\n",
              "1                          1              85  ...          31       0\n",
              "2                          8             183  ...          32       1\n",
              "3                          1              89  ...          21       0\n",
              "4                          0             137  ...          33       1\n",
              "\n",
              "[5 rows x 9 columns]"
            ]
          },
          "metadata": {
            "tags": []
          },
          "execution_count": 19
        }
      ]
    },
    {
      "cell_type": "code",
      "metadata": {
        "id": "bNY1mfxp-Qgi",
        "outputId": "5ac6ed5c-a7b8-4b6d-b905-9a916d5c01d3",
        "colab": {
          "base_uri": "https://localhost:8080/",
          "height": 119
        }
      },
      "source": [
        "#mnar-missing not as random\n",
        "#mcar-missing completely at random\n",
        "print((diabetes.iloc[:,[1,2,3,4,5]]==0).sum())"
      ],
      "execution_count": null,
      "outputs": [
        {
          "output_type": "stream",
          "text": [
            "Plasms glucose                   5\n",
            "Diatolic Blood Pressure         35\n",
            "Triceps skin fold thickness    227\n",
            "2-Hours serum Insulin          374\n",
            "Body Mass Index                 11\n",
            "dtype: int64\n"
          ],
          "name": "stdout"
        }
      ]
    },
    {
      "cell_type": "code",
      "metadata": {
        "id": "8-jRsaCj-Qyk"
      },
      "source": [
        "diabetes.iloc[:,[1,2,3,4,5]]=diabetes.iloc[:,[1,2,3,4,5]].replace(0,np.NaN)"
      ],
      "execution_count": null,
      "outputs": []
    },
    {
      "cell_type": "code",
      "metadata": {
        "id": "oggcbWrP-QrX",
        "outputId": "b5a809cf-c011-4d17-e2d4-5ac7191fbb9f",
        "colab": {
          "base_uri": "https://localhost:8080/",
          "height": 238
        }
      },
      "source": [
        "diabetes.head()"
      ],
      "execution_count": null,
      "outputs": [
        {
          "output_type": "execute_result",
          "data": {
            "text/html": [
              "<div>\n",
              "<style scoped>\n",
              "    .dataframe tbody tr th:only-of-type {\n",
              "        vertical-align: middle;\n",
              "    }\n",
              "\n",
              "    .dataframe tbody tr th {\n",
              "        vertical-align: top;\n",
              "    }\n",
              "\n",
              "    .dataframe thead th {\n",
              "        text-align: right;\n",
              "    }\n",
              "</style>\n",
              "<table border=\"1\" class=\"dataframe\">\n",
              "  <thead>\n",
              "    <tr style=\"text-align: right;\">\n",
              "      <th></th>\n",
              "      <th>Number of times perganant</th>\n",
              "      <th>Plasms glucose</th>\n",
              "      <th>Diatolic Blood Pressure</th>\n",
              "      <th>Triceps skin fold thickness</th>\n",
              "      <th>2-Hours serum Insulin</th>\n",
              "      <th>Body Mass Index</th>\n",
              "      <th>Deibetes pedigree function</th>\n",
              "      <th>Age(years)</th>\n",
              "      <th>Target</th>\n",
              "    </tr>\n",
              "  </thead>\n",
              "  <tbody>\n",
              "    <tr>\n",
              "      <th>0</th>\n",
              "      <td>6</td>\n",
              "      <td>148.0</td>\n",
              "      <td>72.0</td>\n",
              "      <td>35.0</td>\n",
              "      <td>NaN</td>\n",
              "      <td>33.6</td>\n",
              "      <td>0.627</td>\n",
              "      <td>50</td>\n",
              "      <td>1</td>\n",
              "    </tr>\n",
              "    <tr>\n",
              "      <th>1</th>\n",
              "      <td>1</td>\n",
              "      <td>85.0</td>\n",
              "      <td>66.0</td>\n",
              "      <td>29.0</td>\n",
              "      <td>NaN</td>\n",
              "      <td>26.6</td>\n",
              "      <td>0.351</td>\n",
              "      <td>31</td>\n",
              "      <td>0</td>\n",
              "    </tr>\n",
              "    <tr>\n",
              "      <th>2</th>\n",
              "      <td>8</td>\n",
              "      <td>183.0</td>\n",
              "      <td>64.0</td>\n",
              "      <td>NaN</td>\n",
              "      <td>NaN</td>\n",
              "      <td>23.3</td>\n",
              "      <td>0.672</td>\n",
              "      <td>32</td>\n",
              "      <td>1</td>\n",
              "    </tr>\n",
              "    <tr>\n",
              "      <th>3</th>\n",
              "      <td>1</td>\n",
              "      <td>89.0</td>\n",
              "      <td>66.0</td>\n",
              "      <td>23.0</td>\n",
              "      <td>94.0</td>\n",
              "      <td>28.1</td>\n",
              "      <td>0.167</td>\n",
              "      <td>21</td>\n",
              "      <td>0</td>\n",
              "    </tr>\n",
              "    <tr>\n",
              "      <th>4</th>\n",
              "      <td>0</td>\n",
              "      <td>137.0</td>\n",
              "      <td>40.0</td>\n",
              "      <td>35.0</td>\n",
              "      <td>168.0</td>\n",
              "      <td>43.1</td>\n",
              "      <td>2.288</td>\n",
              "      <td>33</td>\n",
              "      <td>1</td>\n",
              "    </tr>\n",
              "  </tbody>\n",
              "</table>\n",
              "</div>"
            ],
            "text/plain": [
              "   Number of times perganant  Plasms glucose  ...  Age(years)  Target\n",
              "0                          6           148.0  ...          50       1\n",
              "1                          1            85.0  ...          31       0\n",
              "2                          8           183.0  ...          32       1\n",
              "3                          1            89.0  ...          21       0\n",
              "4                          0           137.0  ...          33       1\n",
              "\n",
              "[5 rows x 9 columns]"
            ]
          },
          "metadata": {
            "tags": []
          },
          "execution_count": 22
        }
      ]
    },
    {
      "cell_type": "code",
      "metadata": {
        "id": "WbOy1bLI-QMd",
        "outputId": "2b64835f-4d25-48ac-c06d-16a684f931d4",
        "colab": {
          "base_uri": "https://localhost:8080/",
          "height": 187
        }
      },
      "source": [
        "diabetes.isnull().sum()"
      ],
      "execution_count": null,
      "outputs": [
        {
          "output_type": "execute_result",
          "data": {
            "text/plain": [
              "Number of times perganant        0\n",
              "Plasms glucose                   5\n",
              "Diatolic Blood Pressure         35\n",
              "Triceps skin fold thickness    227\n",
              "2-Hours serum Insulin          374\n",
              "Body Mass Index                 11\n",
              "Deibetes pedigree function       0\n",
              "Age(years)                       0\n",
              "Target                           0\n",
              "dtype: int64"
            ]
          },
          "metadata": {
            "tags": []
          },
          "execution_count": 23
        }
      ]
    },
    {
      "cell_type": "code",
      "metadata": {
        "id": "9gp2j46EvTmL",
        "outputId": "129f153d-9a74-4f0c-acc7-855161221baa",
        "colab": {
          "base_uri": "https://localhost:8080/",
          "height": 34
        }
      },
      "source": [
        "#Drop these values\n",
        "\n",
        "print(\"Size of the data before dropping\",diabetes.shape)"
      ],
      "execution_count": null,
      "outputs": [
        {
          "output_type": "stream",
          "text": [
            "Size of the data before dropping (768, 9)\n"
          ],
          "name": "stdout"
        }
      ]
    },
    {
      "cell_type": "code",
      "metadata": {
        "id": "c-EzwNHDv0Zb",
        "outputId": "827be7d4-a561-4c8f-ee1d-d4e2e53e9b3c",
        "colab": {
          "base_uri": "https://localhost:8080/",
          "height": 187
        }
      },
      "source": [
        "nan_dropped=diabetes.dropna()\n",
        "print(diabetes.isnull().sum())"
      ],
      "execution_count": null,
      "outputs": [
        {
          "output_type": "stream",
          "text": [
            "Number of times perganant        0\n",
            "Plasms glucose                   5\n",
            "Diatolic Blood Pressure         35\n",
            "Triceps skin fold thickness    227\n",
            "2-Hours serum Insulin          374\n",
            "Body Mass Index                 11\n",
            "Deibetes pedigree function       0\n",
            "Age(years)                       0\n",
            "Target                           0\n",
            "dtype: int64\n"
          ],
          "name": "stdout"
        }
      ]
    },
    {
      "cell_type": "code",
      "metadata": {
        "id": "PC23CTUgvT-g",
        "outputId": "09b5e78c-17a2-4e57-ab49-5a0fae0495b5",
        "colab": {
          "base_uri": "https://localhost:8080/",
          "height": 34
        }
      },
      "source": [
        "print(nan_dropped.shape)"
      ],
      "execution_count": null,
      "outputs": [
        {
          "output_type": "stream",
          "text": [
            "(392, 9)\n"
          ],
          "name": "stdout"
        }
      ]
    },
    {
      "cell_type": "code",
      "metadata": {
        "id": "i_jh5MDfvUUf",
        "outputId": "8a7839ef-d1f1-4f18-e67b-7355b9c47825",
        "colab": {
          "base_uri": "https://localhost:8080/",
          "height": 187
        }
      },
      "source": [
        "#Drop the row/column having null values more than certain percentage\n",
        "diabetes.isnull().mean()"
      ],
      "execution_count": null,
      "outputs": [
        {
          "output_type": "execute_result",
          "data": {
            "text/plain": [
              "Number of times perganant      0.000000\n",
              "Plasms glucose                 0.006510\n",
              "Diatolic Blood Pressure        0.045573\n",
              "Triceps skin fold thickness    0.295573\n",
              "2-Hours serum Insulin          0.486979\n",
              "Body Mass Index                0.014323\n",
              "Deibetes pedigree function     0.000000\n",
              "Age(years)                     0.000000\n",
              "Target                         0.000000\n",
              "dtype: float64"
            ]
          },
          "metadata": {
            "tags": []
          },
          "execution_count": 27
        }
      ]
    },
    {
      "cell_type": "code",
      "metadata": {
        "id": "p03A3BSKvUoX"
      },
      "source": [
        "col_dropped=diabetes.loc[:,diabetes.isnull().mean()< .4]\n",
        "row_dropped=diabetes.loc[diabetes.isnull().mean(axis=1) < .4,:]"
      ],
      "execution_count": null,
      "outputs": []
    },
    {
      "cell_type": "code",
      "metadata": {
        "id": "P21n7z5CvU9-",
        "outputId": "278d9244-7c66-4f3a-8b08-a30e1f4ad915",
        "colab": {
          "base_uri": "https://localhost:8080/",
          "height": 34
        }
      },
      "source": [
        "print(col_dropped.shape,row_dropped.shape)"
      ],
      "execution_count": null,
      "outputs": [
        {
          "output_type": "stream",
          "text": [
            "(768, 8) (761, 9)\n"
          ],
          "name": "stdout"
        }
      ]
    },
    {
      "cell_type": "code",
      "metadata": {
        "id": "GUvlT9XuvVRa",
        "outputId": "42bf10f4-de63-450e-c798-bee99cdf2834",
        "colab": {
          "base_uri": "https://localhost:8080/",
          "height": 741
        }
      },
      "source": [
        "#inputing\n",
        "diabetes=pd.read_csv('pima-indians-diabetes.csv',names=labels)\n",
        "diabetes.iloc[:,[1,2,3,4,5]]=diabetes.iloc[:,[1,2,3,4,5]].replace(0,np.NaN)\n",
        "plt.figure(figsize=(16,10))\n",
        "sns.heatmap(diabetes.isnull(),cbar=False,cmap=\"YlGnBu\")"
      ],
      "execution_count": null,
      "outputs": [
        {
          "output_type": "execute_result",
          "data": {
            "text/plain": [
              "<matplotlib.axes._subplots.AxesSubplot at 0x7f4d2b176f60>"
            ]
          },
          "metadata": {
            "tags": []
          },
          "execution_count": 30
        },
        {
          "output_type": "display_data",
          "data": {
            "image/png": "[encoded data removed]",
            "text/plain": [
              "<Figure size 1152x720 with 1 Axes>"
            ]
          },
          "metadata": {
            "tags": [],
            "needs_background": "light"
          }
        }
      ]
    },
    {
      "cell_type": "code",
      "metadata": {
        "id": "phY3VB6dvV30"
      },
      "source": [
        "dataset=diabetes.iloc[:,[1,2,3,4,5]]"
      ],
      "execution_count": null,
      "outputs": []
    },
    {
      "cell_type": "code",
      "metadata": {
        "id": "oHdW9caVvWNV",
        "outputId": "b0ea90e4-a469-4018-a66b-7ffba9025e1c",
        "colab": {
          "base_uri": "https://localhost:8080/",
          "height": 122
        }
      },
      "source": [
        "# fillna()\n",
        "dataset.fillna(dataset.mean(),inplace=True)"
      ],
      "execution_count": null,
      "outputs": [
        {
          "output_type": "stream",
          "text": [
            "/usr/local/lib/python3.6/dist-packages/pandas/core/generic.py:6245: SettingWithCopyWarning: \n",
            "A value is trying to be set on a copy of a slice from a DataFrame\n",
            "\n",
            "See the caveats in the documentation: https://pandas.pydata.org/pandas-docs/stable/user_guide/indexing.html#returning-a-view-versus-a-copy\n",
            "  self._update_inplace(new_data)\n"
          ],
          "name": "stderr"
        }
      ]
    },
    {
      "cell_type": "code",
      "metadata": {
        "id": "cmzbSIi7vWfs",
        "outputId": "be6fca15-01e5-4e08-b6c1-05a57ce2546d",
        "colab": {
          "base_uri": "https://localhost:8080/",
          "height": 119
        }
      },
      "source": [
        "dataset.isnull().sum()"
      ],
      "execution_count": null,
      "outputs": [
        {
          "output_type": "execute_result",
          "data": {
            "text/plain": [
              "Plasms glucose                 0\n",
              "Diatolic Blood Pressure        0\n",
              "Triceps skin fold thickness    0\n",
              "2-Hours serum Insulin          0\n",
              "Body Mass Index                0\n",
              "dtype: int64"
            ]
          },
          "metadata": {
            "tags": []
          },
          "execution_count": 33
        }
      ]
    },
    {
      "cell_type": "code",
      "metadata": {
        "id": "QtLCI8ed4UWj",
        "outputId": "7d4f94b1-4422-4401-bd15-921bc09ecd6f",
        "colab": {
          "base_uri": "https://localhost:8080/",
          "height": 204
        }
      },
      "source": [
        "dataset.head()"
      ],
      "execution_count": null,
      "outputs": [
        {
          "output_type": "execute_result",
          "data": {
            "text/html": [
              "<div>\n",
              "<style scoped>\n",
              "    .dataframe tbody tr th:only-of-type {\n",
              "        vertical-align: middle;\n",
              "    }\n",
              "\n",
              "    .dataframe tbody tr th {\n",
              "        vertical-align: top;\n",
              "    }\n",
              "\n",
              "    .dataframe thead th {\n",
              "        text-align: right;\n",
              "    }\n",
              "</style>\n",
              "<table border=\"1\" class=\"dataframe\">\n",
              "  <thead>\n",
              "    <tr style=\"text-align: right;\">\n",
              "      <th></th>\n",
              "      <th>Plasms glucose</th>\n",
              "      <th>Diatolic Blood Pressure</th>\n",
              "      <th>Triceps skin fold thickness</th>\n",
              "      <th>2-Hours serum Insulin</th>\n",
              "      <th>Body Mass Index</th>\n",
              "    </tr>\n",
              "  </thead>\n",
              "  <tbody>\n",
              "    <tr>\n",
              "      <th>0</th>\n",
              "      <td>148.0</td>\n",
              "      <td>72.0</td>\n",
              "      <td>35.00000</td>\n",
              "      <td>155.548223</td>\n",
              "      <td>33.6</td>\n",
              "    </tr>\n",
              "    <tr>\n",
              "      <th>1</th>\n",
              "      <td>85.0</td>\n",
              "      <td>66.0</td>\n",
              "      <td>29.00000</td>\n",
              "      <td>155.548223</td>\n",
              "      <td>26.6</td>\n",
              "    </tr>\n",
              "    <tr>\n",
              "      <th>2</th>\n",
              "      <td>183.0</td>\n",
              "      <td>64.0</td>\n",
              "      <td>29.15342</td>\n",
              "      <td>155.548223</td>\n",
              "      <td>23.3</td>\n",
              "    </tr>\n",
              "    <tr>\n",
              "      <th>3</th>\n",
              "      <td>89.0</td>\n",
              "      <td>66.0</td>\n",
              "      <td>23.00000</td>\n",
              "      <td>94.000000</td>\n",
              "      <td>28.1</td>\n",
              "    </tr>\n",
              "    <tr>\n",
              "      <th>4</th>\n",
              "      <td>137.0</td>\n",
              "      <td>40.0</td>\n",
              "      <td>35.00000</td>\n",
              "      <td>168.000000</td>\n",
              "      <td>43.1</td>\n",
              "    </tr>\n",
              "  </tbody>\n",
              "</table>\n",
              "</div>"
            ],
            "text/plain": [
              "   Plasms glucose  ...  Body Mass Index\n",
              "0           148.0  ...             33.6\n",
              "1            85.0  ...             26.6\n",
              "2           183.0  ...             23.3\n",
              "3            89.0  ...             28.1\n",
              "4           137.0  ...             43.1\n",
              "\n",
              "[5 rows x 5 columns]"
            ]
          },
          "metadata": {
            "tags": []
          },
          "execution_count": 34
        }
      ]
    },
    {
      "cell_type": "code",
      "metadata": {
        "id": "CJxRBf6d4Yyd"
      },
      "source": [
        "from sklearn.impute import SimpleImputer\n",
        "diabetes=pd.read_csv('pima-indians-diabetes.csv',names=labels)\n",
        "diabetes.iloc[:,[1,2,3,4,5]]=diabetes.iloc[:,[1,2,3,4,5]].replace(0,np.NaN)\n",
        "dataset=diabetes.iloc[:,[1,2,3,4,5]]"
      ],
      "execution_count": null,
      "outputs": []
    },
    {
      "cell_type": "code",
      "metadata": {
        "id": "9q18guv04ZKI",
        "outputId": "1cea1bd2-9d8b-45ce-d632-738c0958cfbe",
        "colab": {
          "base_uri": "https://localhost:8080/",
          "height": 204
        }
      },
      "source": [
        "dataset.head()"
      ],
      "execution_count": null,
      "outputs": [
        {
          "output_type": "execute_result",
          "data": {
            "text/html": [
              "<div>\n",
              "<style scoped>\n",
              "    .dataframe tbody tr th:only-of-type {\n",
              "        vertical-align: middle;\n",
              "    }\n",
              "\n",
              "    .dataframe tbody tr th {\n",
              "        vertical-align: top;\n",
              "    }\n",
              "\n",
              "    .dataframe thead th {\n",
              "        text-align: right;\n",
              "    }\n",
              "</style>\n",
              "<table border=\"1\" class=\"dataframe\">\n",
              "  <thead>\n",
              "    <tr style=\"text-align: right;\">\n",
              "      <th></th>\n",
              "      <th>Plasms glucose</th>\n",
              "      <th>Diatolic Blood Pressure</th>\n",
              "      <th>Triceps skin fold thickness</th>\n",
              "      <th>2-Hours serum Insulin</th>\n",
              "      <th>Body Mass Index</th>\n",
              "    </tr>\n",
              "  </thead>\n",
              "  <tbody>\n",
              "    <tr>\n",
              "      <th>0</th>\n",
              "      <td>148.0</td>\n",
              "      <td>72.0</td>\n",
              "      <td>35.0</td>\n",
              "      <td>NaN</td>\n",
              "      <td>33.6</td>\n",
              "    </tr>\n",
              "    <tr>\n",
              "      <th>1</th>\n",
              "      <td>85.0</td>\n",
              "      <td>66.0</td>\n",
              "      <td>29.0</td>\n",
              "      <td>NaN</td>\n",
              "      <td>26.6</td>\n",
              "    </tr>\n",
              "    <tr>\n",
              "      <th>2</th>\n",
              "      <td>183.0</td>\n",
              "      <td>64.0</td>\n",
              "      <td>NaN</td>\n",
              "      <td>NaN</td>\n",
              "      <td>23.3</td>\n",
              "    </tr>\n",
              "    <tr>\n",
              "      <th>3</th>\n",
              "      <td>89.0</td>\n",
              "      <td>66.0</td>\n",
              "      <td>23.0</td>\n",
              "      <td>94.0</td>\n",
              "      <td>28.1</td>\n",
              "    </tr>\n",
              "    <tr>\n",
              "      <th>4</th>\n",
              "      <td>137.0</td>\n",
              "      <td>40.0</td>\n",
              "      <td>35.0</td>\n",
              "      <td>168.0</td>\n",
              "      <td>43.1</td>\n",
              "    </tr>\n",
              "  </tbody>\n",
              "</table>\n",
              "</div>"
            ],
            "text/plain": [
              "   Plasms glucose  ...  Body Mass Index\n",
              "0           148.0  ...             33.6\n",
              "1            85.0  ...             26.6\n",
              "2           183.0  ...             23.3\n",
              "3            89.0  ...             28.1\n",
              "4           137.0  ...             43.1\n",
              "\n",
              "[5 rows x 5 columns]"
            ]
          },
          "metadata": {
            "tags": []
          },
          "execution_count": 36
        }
      ]
    },
    {
      "cell_type": "code",
      "metadata": {
        "id": "_lue-EY04ZAe"
      },
      "source": [
        "imputer=SimpleImputer(missing_values=np.nan, strategy='mean')"
      ],
      "execution_count": null,
      "outputs": []
    },
    {
      "cell_type": "code",
      "metadata": {
        "id": "5s3auvxCvWz0",
        "outputId": "ebe7118d-ecff-433d-96f4-4b60722d2e6c",
        "colab": {
          "base_uri": "https://localhost:8080/",
          "height": 136
        }
      },
      "source": [
        "print(imputer.fit_transform(dataset))"
      ],
      "execution_count": null,
      "outputs": [
        {
          "output_type": "stream",
          "text": [
            "[[148.          72.          35.         155.54822335  33.6       ]\n",
            " [ 85.          66.          29.         155.54822335  26.6       ]\n",
            " [183.          64.          29.15341959 155.54822335  23.3       ]\n",
            " ...\n",
            " [121.          72.          23.         112.          26.2       ]\n",
            " [126.          60.          29.15341959 155.54822335  30.1       ]\n",
            " [ 93.          70.          31.         155.54822335  30.4       ]]\n"
          ],
          "name": "stdout"
        }
      ]
    },
    {
      "cell_type": "code",
      "metadata": {
        "id": "pMsok_tB7Awn"
      },
      "source": [
        "from sklearn.impute import KNNImputer\n",
        "diabetes=pd.read_csv('pima-indians-diabetes.csv',names=labels)\n",
        "diabetes.iloc[:,[1,2,3,4,5]]=diabetes.iloc[:,[1,2,3,4,5]].replace(0,np.NaN)\n",
        "dataset=diabetes.iloc[:,[1,2,3,4,5]]"
      ],
      "execution_count": null,
      "outputs": []
    },
    {
      "cell_type": "code",
      "metadata": {
        "id": "zhKYZ6vP7BRE",
        "outputId": "91b417a0-af60-4029-b3db-9ee5ddd3602a",
        "colab": {
          "base_uri": "https://localhost:8080/",
          "height": 136
        }
      },
      "source": [
        "imputer=KNNImputer(n_neighbors=3,weights=\"uniform\")\n",
        "print(imputer.fit_transform(dataset))"
      ],
      "execution_count": null,
      "outputs": [
        {
          "output_type": "stream",
          "text": [
            "[[148.          72.          35.         241.66666667  33.6       ]\n",
            " [ 85.          66.          29.          90.33333333  26.6       ]\n",
            " [183.          64.          30.66666667 555.33333333  23.3       ]\n",
            " ...\n",
            " [121.          72.          23.         112.          26.2       ]\n",
            " [126.          60.          18.66666667 215.33333333  30.1       ]\n",
            " [ 93.          70.          31.          65.33333333  30.4       ]]\n"
          ],
          "name": "stdout"
        }
      ]
    },
    {
      "cell_type": "code",
      "metadata": {
        "id": "ynhvtUQ77Bg9"
      },
      "source": [
        "#Range Scaling\n",
        "vector=np.random.chisquare(1,500)"
      ],
      "execution_count": null,
      "outputs": []
    },
    {
      "cell_type": "code",
      "metadata": {
        "id": "NjQptaeh7Buj",
        "outputId": "1fd984a9-11e0-4d5a-995c-b5e3b20d86cb",
        "colab": {
          "base_uri": "https://localhost:8080/",
          "height": 1000
        }
      },
      "source": [
        "print(vector)"
      ],
      "execution_count": null,
      "outputs": [
        {
          "output_type": "stream",
          "text": [
            "[1.85089749e+00 4.40043343e-01 9.71637035e-01 4.44445652e-01\n",
            " 4.67443367e+00 1.52904937e+00 3.74435825e-01 3.42536069e-03\n",
            " 2.93021187e+00 7.23606701e-01 4.16998303e+00 5.44409757e-01\n",
            " 4.01402758e-02 1.40522178e+00 6.24705161e-03 7.30973857e-02\n",
            " 9.57454363e-01 2.17989554e-01 1.91603328e-02 5.57629382e+00\n",
            " 2.82605153e-01 2.51237704e-01 2.71709096e-01 2.37696239e+00\n",
            " 7.55275161e-01 6.20034495e-03 6.10990701e-01 4.13414497e-01\n",
            " 1.33053192e+00 7.09245362e-01 1.46061450e+00 3.47050869e-01\n",
            " 1.21778895e+00 6.06686897e-01 1.28666310e-03 3.52499210e-02\n",
            " 3.05245535e-01 2.45544636e+00 4.56722655e-01 2.75054350e-03\n",
            " 9.30232180e-03 3.80525719e-03 9.41379654e-01 8.69839262e-01\n",
            " 2.38511903e-01 1.51535910e+00 6.89670855e-01 1.78577528e-01\n",
            " 4.16300672e+00 1.20976741e+00 2.10523570e-02 2.95356383e+00\n",
            " 7.40749464e-02 2.15372791e+00 2.22432313e+00 5.73554759e+00\n",
            " 1.12498329e-01 3.88305018e-01 2.25458813e-02 1.05736890e+00\n",
            " 1.78381849e-01 2.90425114e-01 4.80595543e-01 1.00488881e+00\n",
            " 4.91460503e-01 1.58621886e-01 1.25299540e+00 4.07879879e-02\n",
            " 9.72457576e-01 1.11293961e+00 9.96042516e-02 3.75963307e-01\n",
            " 2.44905779e+00 3.43303740e-03 9.41349330e-05 2.97611503e+00\n",
            " 1.83038916e+00 1.37425163e-01 2.56952213e+00 5.02801846e-01\n",
            " 9.99008103e-03 3.94742398e-01 1.50724924e+00 6.24764773e+00\n",
            " 4.85121857e-03 2.62788978e+00 2.89488203e+00 5.91417133e-01\n",
            " 2.27704087e+00 5.07360823e-01 6.06580317e-03 1.54102709e-04\n",
            " 3.61175280e+00 1.77713591e+00 4.55601169e+00 2.97702221e+00\n",
            " 1.46951599e-02 4.22044204e-01 5.22673829e-01 5.03079920e-04\n",
            " 1.11895299e+00 2.51806411e-01 3.20703936e-02 1.21375555e-01\n",
            " 1.66915012e+00 8.72689330e-01 2.38302949e-01 2.85193271e-01\n",
            " 3.07925683e-02 3.26409504e+00 1.55132809e+00 9.15554280e-01\n",
            " 1.00382352e-02 6.09453011e-01 3.42423410e+00 1.47854600e-01\n",
            " 6.41943460e+00 1.46858922e+00 2.07391299e-01 4.22724747e-01\n",
            " 1.95438632e-01 3.01700029e+00 3.52596211e+00 3.81621416e-01\n",
            " 9.03635280e-01 2.01890985e-01 2.26661817e-01 1.19063394e-02\n",
            " 5.61971383e+00 2.60761508e+00 3.55190920e+00 9.19039196e-01\n",
            " 4.20683717e-02 1.45483547e-04 5.18853274e-01 4.05375602e-01\n",
            " 3.75031488e-01 1.10571073e+00 4.31517738e-01 4.64468011e-01\n",
            " 8.54442180e-01 1.76825830e-02 1.80207705e-02 1.06970995e-01\n",
            " 8.96737146e-03 5.28677668e-01 8.95814910e-02 1.33433469e-01\n",
            " 2.41679609e-02 5.19346637e+00 2.45039968e-01 1.14910666e+00\n",
            " 1.24028843e+00 1.56351813e-02 3.09505015e-02 1.39299183e-01\n",
            " 1.11988091e-01 7.17289416e-02 9.33703480e-01 3.59477257e+00\n",
            " 3.84240382e-03 2.85425736e-01 2.54474694e-03 4.96390839e-01\n",
            " 9.26575761e-02 5.48133232e+00 3.97537003e-01 9.46794936e-01\n",
            " 9.54863291e-01 1.51772671e+00 2.69464219e-01 6.79434511e-01\n",
            " 1.05514637e+00 3.38994291e-01 8.07047449e-02 2.05167186e+00\n",
            " 8.07692181e-02 1.17706248e-01 8.52581351e-01 6.38112275e-05\n",
            " 6.91082594e-01 9.84325427e-01 4.31418820e+00 4.21635639e-01\n",
            " 5.78650236e-01 4.71386641e+00 3.77597976e-01 8.07946732e-01\n",
            " 1.56499100e+00 4.51307364e+00 6.07828965e-01 1.29403413e+00\n",
            " 2.69109283e-04 6.56116800e-01 3.67165629e+00 1.15494497e-01\n",
            " 4.93271737e-01 1.85702994e-01 1.74450402e-01 2.48724739e+00\n",
            " 8.53556123e+00 4.74877187e+00 4.26623935e-01 2.52549653e-01\n",
            " 2.57349870e-02 3.04363359e-01 4.23899571e+00 3.70010127e-01\n",
            " 1.15804828e-01 1.05889518e-01 1.45961675e+00 5.05499736e-01\n",
            " 5.85791800e-04 3.56684959e-02 4.87711747e-01 3.34394368e-03\n",
            " 3.20453799e+00 2.38353389e+00 1.16114737e-01 6.78441258e-01\n",
            " 1.78990955e-03 1.94664855e-03 4.00474638e-01 3.58871501e-01\n",
            " 5.58683218e-02 3.15706982e-01 3.39507666e-01 1.74767753e-02\n",
            " 7.59847505e-01 1.60473377e+00 1.74721352e+00 2.45797919e+00\n",
            " 3.06105923e-03 3.30829174e-02 1.20418785e-02 5.99881549e-03\n",
            " 9.24253265e-02 2.08321640e-01 1.47910392e+00 3.63462150e-01\n",
            " 2.46088849e+00 3.81384313e-01 7.09217542e+00 2.34148121e-04\n",
            " 7.65633329e-02 2.43119364e+00 4.93330649e-02 3.35747336e-01\n",
            " 5.70181554e+00 2.20507524e-03 1.19137652e+00 9.08677844e-02\n",
            " 8.89397516e-01 3.53173151e+00 8.86128875e-01 4.96679901e+00\n",
            " 1.03606508e-02 1.55875108e+00 8.17416550e+00 1.45968625e-04\n",
            " 5.84102818e-01 2.73047219e-01 4.30287485e-01 8.08195827e-01\n",
            " 3.89950493e-02 2.91611868e+00 4.03311988e+00 5.20966880e-07\n",
            " 1.58650481e+00 8.58653702e-02 3.63120499e-01 6.72947104e-01\n",
            " 2.80264263e-01 3.41625810e-03 2.47447890e-02 1.28885090e+00\n",
            " 1.59424601e+00 1.18902962e-02 5.48336163e-01 1.04048068e-01\n",
            " 1.35051454e-04 5.41225780e-01 3.33177452e-01 5.37630493e-02\n",
            " 5.96865305e-02 1.84783413e+00 1.42808998e-01 5.63343081e-01\n",
            " 1.69669317e+00 1.44809924e+00 8.18746164e-01 4.78039568e-02\n",
            " 1.29541061e+00 1.61664035e-01 1.33918703e+00 1.56897902e-02\n",
            " 1.89365673e-01 1.80096705e-01 4.09618633e-02 4.32213876e-02\n",
            " 1.33088966e+00 2.52759252e-01 9.54902816e-02 5.48331949e-01\n",
            " 1.55996011e+00 8.88584974e-01 5.36682707e-01 2.87919197e+00\n",
            " 2.98304598e+00 3.82061908e-04 1.73613253e-01 3.63059353e+00\n",
            " 2.26623994e-01 9.88498081e-02 5.34231858e-01 3.18093236e-02\n",
            " 1.10200033e+00 5.57934249e-01 6.41723406e-02 1.37241181e+00\n",
            " 8.53789935e-01 5.74834379e-01 1.46406106e+00 1.46666055e-01\n",
            " 3.03407255e-01 1.13812563e+00 8.25523235e-02 2.48154111e-01\n",
            " 1.66320611e+00 4.79907693e-02 1.46540557e+00 7.78343368e-01\n",
            " 1.34735023e+00 1.38751348e+00 2.35361929e+00 1.75019206e-01\n",
            " 6.05136031e-01 1.32946641e-01 2.77712880e-01 4.31003635e-01\n",
            " 9.54870682e-01 1.47620351e-02 1.32147337e-01 2.96576834e-02\n",
            " 5.01458419e-01 3.24066250e-01 1.01218385e+00 6.66883578e-01\n",
            " 5.65987829e-04 7.16620282e-01 7.09072697e-01 6.15282563e-01\n",
            " 1.03785320e+01 1.69061644e-02 1.88908075e+00 1.20007200e-01\n",
            " 7.15985832e-02 4.73220542e-02 1.24170618e+00 7.80428494e-01\n",
            " 7.61478858e-01 3.25053212e+00 5.56624916e-01 2.21426217e-01\n",
            " 9.12611344e-01 1.20391233e-01 4.93999495e+00 3.90135949e-01\n",
            " 2.81295543e+00 1.74543222e+00 2.42734074e-02 1.82444778e+00\n",
            " 1.14382287e+00 1.99091294e-01 1.44287288e+00 4.46372217e-01\n",
            " 6.54611680e-01 9.45783737e-02 1.07737941e-01 1.41826370e-01\n",
            " 1.19094024e-01 9.88428593e-01 7.89688891e-02 3.42938159e-01\n",
            " 5.04983589e-02 2.45199018e+00 4.89182554e-01 8.82579036e-02\n",
            " 6.37613002e-02 6.36011421e-01 5.77930053e-02 6.31373854e-01\n",
            " 6.14930688e-01 8.57722791e-03 1.19000688e-01 1.30683911e-01\n",
            " 1.98950984e-01 3.62766461e-01 1.42817174e+00 1.16807566e-02\n",
            " 3.31355927e-03 7.30602142e-02 7.71405528e-01 1.01915053e+01\n",
            " 2.52652935e+00 3.84092418e-01 1.95490352e-01 5.16155103e-02\n",
            " 4.55879298e-01 3.86703867e+00 4.94412663e-01 8.05243549e-01\n",
            " 2.74809689e-01 3.64389000e-01 1.85823843e-01 1.18096346e+00\n",
            " 5.73838158e-01 9.66424631e-01 9.09751013e-01 7.55115891e-02\n",
            " 2.27023204e-01 1.01329497e+00 8.99262217e-02 3.12038925e-01\n",
            " 2.19197321e+00 1.20894792e+00 1.64535664e-01 6.79000758e-01\n",
            " 2.08311122e-01 3.78457965e+00 6.97220065e-01 6.03288776e-01\n",
            " 5.09478829e+00 1.78419115e-01 4.20018076e-01 1.66275047e-01\n",
            " 2.06684710e-01 5.01025756e-01 1.70102769e-01 6.06902460e-02\n",
            " 2.35025205e+00 5.21518056e-02 1.28191570e-01 9.89146333e-01\n",
            " 4.73023176e+00 1.80968626e+00 1.70943659e-01 8.10208099e-01\n",
            " 8.84523267e-02 3.34487480e+00 2.16644904e+00 2.90125112e+00\n",
            " 3.94086305e-04 1.12950546e+00 4.96079171e-02 2.04620934e-01\n",
            " 2.74973240e-01 1.77116290e-02 6.27180872e-01 4.92881507e-02\n",
            " 8.00641042e-01 2.39556343e-05 1.98284188e-01 2.34814443e+00\n",
            " 6.52088085e-01 2.72701593e-01 4.69835855e+00 1.59968008e+00\n",
            " 1.64229257e-01 7.69673541e-01 9.12323795e-01 3.33725742e-01\n",
            " 1.14622278e+00 6.17580048e-01 7.68236587e-03 2.41625533e+00\n",
            " 3.90685508e+00 2.22494803e-01 8.75525635e-01 9.28243168e-02\n",
            " 1.31039506e+00 4.86271312e-01 2.31523274e+00 3.25272439e-01\n",
            " 7.21012280e+00 4.54582282e-01 3.18787972e+00 9.05381473e-01\n",
            " 5.16380834e-01 5.40789909e-05 2.13611106e-01 1.07300448e+00\n",
            " 4.27305083e-01 7.36229060e-01 6.50341766e-01 3.58135877e-01\n",
            " 1.56914992e+00 1.11800743e+00 4.16521960e-02 1.86658925e-01]\n"
          ],
          "name": "stdout"
        }
      ]
    },
    {
      "cell_type": "code",
      "metadata": {
        "id": "s2H8wleA7CTT",
        "outputId": "a38c0e92-f809-4e43-bd94-5ed301d6c6a6",
        "colab": {
          "base_uri": "https://localhost:8080/",
          "height": 68
        }
      },
      "source": [
        "print(\"Mean\",np.mean(vector))\n",
        "print(\"SD\",np.std(vector))\n",
        "print(\"Range\",max(vector)-min(vector))"
      ],
      "execution_count": null,
      "outputs": [
        {
          "output_type": "stream",
          "text": [
            "Mean 1.037715697183231\n",
            "SD 1.5026976996620116\n",
            "Range 10.37853145337298\n"
          ],
          "name": "stdout"
        }
      ]
    },
    {
      "cell_type": "code",
      "metadata": {
        "id": "g3x-RFZH7Ctk",
        "outputId": "2afc6d0b-4543-4701-e98d-6a5c2a510c70",
        "colab": {
          "base_uri": "https://localhost:8080/",
          "height": 68
        }
      },
      "source": [
        "from sklearn.preprocessing import MinMaxScaler\n",
        "range_scaler=MinMaxScaler()\n",
        "range_scaler.fit(vector.reshape(-1,1))\n",
        "range_scaler_vector=range_scaler.transform(vector.reshape(-1,1))\n",
        "print(\"Mean\",np.mean(range_scaler_vector))\n",
        "print(\"SD\",np.std(range_scaler_vector))\n",
        "print(\"Range\",max(range_scaler_vector)-min(range_scaler_vector))"
      ],
      "execution_count": null,
      "outputs": [
        {
          "output_type": "stream",
          "text": [
            "Mean 0.09998670629639975\n",
            "SD 0.14478904904928924\n",
            "Range [1.]\n"
          ],
          "name": "stdout"
        }
      ]
    },
    {
      "cell_type": "code",
      "metadata": {
        "id": "CNfShAR47Cjg",
        "outputId": "0a47cb9f-993f-4580-fa2a-385e9bf8ad62",
        "colab": {
          "base_uri": "https://localhost:8080/",
          "height": 1000
        }
      },
      "source": [
        "range_scaler_vector"
      ],
      "execution_count": null,
      "outputs": [
        {
          "output_type": "execute_result",
          "data": {
            "text/plain": [
              "array([[1.78339004e-01],\n",
              "       [4.23993340e-02],\n",
              "       [9.36198457e-02],\n",
              "       [4.28235086e-02],\n",
              "       [4.50394468e-01],\n",
              "       [1.47328054e-01],\n",
              "       [3.60778696e-02],\n",
              "       [3.29992710e-04],\n",
              "       [2.82333909e-01],\n",
              "       [6.97214422e-02],\n",
              "       [4.01789263e-01],\n",
              "       [5.24553246e-02],\n",
              "       [3.86757558e-03],\n",
              "       [1.35396927e-01],\n",
              "       [6.01870377e-04],\n",
              "       [7.04308360e-03],\n",
              "       [9.22533064e-02],\n",
              "       [2.10038419e-02],\n",
              "       [1.84610048e-03],\n",
              "       [5.37291169e-01],\n",
              "       [2.72297322e-02],\n",
              "       [2.42073923e-02],\n",
              "       [2.61798672e-02],\n",
              "       [2.29026802e-01],\n",
              "       [7.27727852e-02],\n",
              "       [5.97370063e-04],\n",
              "       [5.88705814e-02],\n",
              "       [3.98335716e-02],\n",
              "       [1.28200353e-01],\n",
              "       [6.83376877e-02],\n",
              "       [1.40734167e-01],\n",
              "       [3.34392539e-02],\n",
              "       [1.17337258e-01],\n",
              "       [5.84558980e-02],\n",
              "       [1.23923326e-04],\n",
              "       [3.39637647e-03],\n",
              "       [2.94111951e-02],\n",
              "       [2.36588948e-01],\n",
              "       [4.40064316e-02],\n",
              "       [2.64972221e-04],\n",
              "       [8.96254049e-04],\n",
              "       [3.66596781e-04],\n",
              "       [9.07044641e-02],\n",
              "       [8.38113509e-02],\n",
              "       [2.29812265e-02],\n",
              "       [1.46008960e-01],\n",
              "       [6.64516302e-02],\n",
              "       [1.72063849e-02],\n",
              "       [4.01117077e-01],\n",
              "       [1.16564361e-01],\n",
              "       [2.02840220e-03],\n",
              "       [2.84583934e-01],\n",
              "       [7.13727426e-03],\n",
              "       [2.07517547e-01],\n",
              "       [2.14319591e-01],\n",
              "       [5.52635707e-01],\n",
              "       [1.08394727e-02],\n",
              "       [3.74142044e-02],\n",
              "       [2.17230736e-03],\n",
              "       [1.01880347e-01],\n",
              "       [1.71875307e-02],\n",
              "       [2.79832069e-02],\n",
              "       [4.63066499e-02],\n",
              "       [9.68237459e-02],\n",
              "       [4.73535186e-02],\n",
              "       [1.52836041e-02],\n",
              "       [1.20729496e-01],\n",
              "       [3.92998442e-03],\n",
              "       [9.36989072e-02],\n",
              "       [1.07234737e-01],\n",
              "       [9.59709291e-03],\n",
              "       [3.62250467e-02],\n",
              "       [2.35973392e-01],\n",
              "       [3.30732383e-04],\n",
              "       [9.01996265e-06],\n",
              "       [2.86756804e-01],\n",
              "       [1.76362970e-01],\n",
              "       [1.32412415e-02],\n",
              "       [2.47580462e-01],\n",
              "       [4.84462881e-02],\n",
              "       [9.62521539e-04],\n",
              "       [3.80344636e-02],\n",
              "       [1.45227552e-01],\n",
              "       [6.01977962e-01],\n",
              "       [4.67378031e-04],\n",
              "       [2.53204345e-01],\n",
              "       [2.78929782e-01],\n",
              "       [5.69846143e-02],\n",
              "       [2.19399090e-01],\n",
              "       [4.88855581e-02],\n",
              "       [5.84406593e-04],\n",
              "       [1.47980225e-05],\n",
              "       [3.48002249e-01],\n",
              "       [1.71231874e-01],\n",
              "       [4.38984185e-01],\n",
              "       [2.86844213e-01],\n",
              "       [1.41586880e-03],\n",
              "       [4.06650676e-02],\n",
              "       [5.03610083e-02],\n",
              "       [4.84229349e-05],\n",
              "       [1.07814142e-01],\n",
              "       [2.42621889e-02],\n",
              "       [3.09002027e-03],\n",
              "       [1.16948177e-02],\n",
              "       [1.60827146e-01],\n",
              "       [8.40859628e-02],\n",
              "       [2.29610932e-02],\n",
              "       [2.74791045e-02],\n",
              "       [2.96689830e-03],\n",
              "       [3.14504468e-01],\n",
              "       [1.49474670e-01],\n",
              "       [8.82161184e-02],\n",
              "       [9.67161321e-04],\n",
              "       [5.87224207e-02],\n",
              "       [3.29934306e-01],\n",
              "       [1.42461464e-02],\n",
              "       [6.18530098e-01],\n",
              "       [1.41502553e-01],\n",
              "       [1.99826708e-02],\n",
              "       [4.07306398e-02],\n",
              "       [1.88309986e-02],\n",
              "       [2.90696211e-01],\n",
              "       [3.39736080e-01],\n",
              "       [3.67702210e-02],\n",
              "       [8.70676900e-02],\n",
              "       [1.94527005e-02],\n",
              "       [2.18394381e-02],\n",
              "       [1.14715829e-03],\n",
              "       [5.41474806e-01],\n",
              "       [2.51250822e-01],\n",
              "       [3.42236153e-01],\n",
              "       [8.85518996e-02],\n",
              "       [4.05335291e-03],\n",
              "       [1.39675426e-05],\n",
              "       [4.99928873e-02],\n",
              "       [3.90590020e-02],\n",
              "       [3.61352633e-02],\n",
              "       [1.06538215e-01],\n",
              "       [4.15778686e-02],\n",
              "       [4.47527178e-02],\n",
              "       [8.23277997e-02],\n",
              "       [1.70371523e-03],\n",
              "       [1.73630052e-03],\n",
              "       [1.03068989e-02],\n",
              "       [8.63980663e-04],\n",
              "       [5.09394946e-02],\n",
              "       [8.63137241e-03],\n",
              "       [1.28566309e-02],\n",
              "       [2.32859919e-03],\n",
              "       [5.00404693e-01],\n",
              "       [2.36102235e-02],\n",
              "       [1.10719531e-01],\n",
              "       [1.19505145e-01],\n",
              "       [1.50644245e-03],\n",
              "       [2.98211559e-03],\n",
              "       [1.34218085e-02],\n",
              "       [1.07903098e-02],\n",
              "       [6.91123026e-03],\n",
              "       [8.99648436e-02],\n",
              "       [3.46366157e-01],\n",
              "       [3.70175960e-04],\n",
              "       [2.75015031e-02],\n",
              "       [2.45143158e-04],\n",
              "       [4.78285700e-02],\n",
              "       [8.92776165e-03],\n",
              "       [5.28141368e-01],\n",
              "       [3.83037315e-02],\n",
              "       [9.12262414e-02],\n",
              "       [9.20036495e-02],\n",
              "       [1.46237085e-01],\n",
              "       [2.59635671e-02],\n",
              "       [6.54653303e-02],\n",
              "       [1.01666199e-01],\n",
              "       [3.26629805e-02],\n",
              "       [7.77607355e-03],\n",
              "       [1.97684167e-01],\n",
              "       [7.78228572e-03],\n",
              "       [1.13412700e-02],\n",
              "       [8.21485037e-02],\n",
              "       [6.09819038e-06],\n",
              "       [6.65876551e-02],\n",
              "       [9.48424072e-02],\n",
              "       [4.15683828e-01],\n",
              "       [4.06257012e-02],\n",
              "       [5.57544888e-02],\n",
              "       [4.54193921e-01],\n",
              "       [3.63825515e-02],\n",
              "       [7.78478356e-02],\n",
              "       [1.50791129e-01],\n",
              "       [4.34846986e-01],\n",
              "       [5.85659393e-02],\n",
              "       [1.24683691e-01],\n",
              "       [2.58792217e-05],\n",
              "       [6.32186048e-02],\n",
              "       [3.53774114e-01],\n",
              "       [1.11281617e-02],\n",
              "       [4.75280359e-02],\n",
              "       [1.78929431e-02],\n",
              "       [1.68087250e-02],\n",
              "       [2.39653065e-01],\n",
              "       [8.22424709e-01],\n",
              "       [4.57557157e-01],\n",
              "       [4.11063372e-02],\n",
              "       [2.43338023e-02],\n",
              "       [2.47958646e-03],\n",
              "       [2.93261950e-02],\n",
              "       [4.08438825e-01],\n",
              "       [3.56514414e-02],\n",
              "       [1.11580629e-02],\n",
              "       [1.02026956e-02],\n",
              "       [1.40638031e-01],\n",
              "       [4.87062372e-02],\n",
              "       [5.63924516e-05],\n",
              "       [3.43670731e-03],\n",
              "       [4.69923156e-02],\n",
              "       [3.22147958e-04],\n",
              "       [3.08765983e-01],\n",
              "       [2.29659984e-01],\n",
              "       [1.11879235e-02],\n",
              "       [6.53696277e-02],\n",
              "       [1.72412503e-04],\n",
              "       [1.87514736e-04],\n",
              "       [3.85867806e-02],\n",
              "       [3.45782042e-02],\n",
              "       [5.38301600e-03],\n",
              "       [3.04191843e-02],\n",
              "       [3.27124456e-02],\n",
              "       [1.68388508e-03],\n",
              "       [7.32133431e-02],\n",
              "       [1.54620454e-01],\n",
              "       [1.68348770e-01],\n",
              "       [2.36832993e-01],\n",
              "       [2.94891264e-04],\n",
              "       [3.18757973e-03],\n",
              "       [1.16021786e-03],\n",
              "       [5.77952146e-04],\n",
              "       [8.90538376e-03],\n",
              "       [2.00723118e-02],\n",
              "       [1.42515673e-01],\n",
              "       [3.50205258e-02],\n",
              "       [2.37113313e-01],\n",
              "       [3.67473755e-02],\n",
              "       [6.83350524e-01],\n",
              "       [2.25106177e-05],\n",
              "       [7.37703713e-03],\n",
              "       [2.34252132e-01],\n",
              "       [4.75332605e-03],\n",
              "       [3.23501275e-02],\n",
              "       [5.49385532e-01],\n",
              "       [2.12414857e-04],\n",
              "       [1.14792348e-01],\n",
              "       [8.75531031e-03],\n",
              "       [8.56958423e-02],\n",
              "       [3.40291977e-01],\n",
              "       [8.53808998e-02],\n",
              "       [4.78564670e-01],\n",
              "       [9.98226957e-04],\n",
              "       [1.50189896e-01],\n",
              "       [7.87603238e-01],\n",
              "       [1.40142812e-05],\n",
              "       [5.62798599e-02],\n",
              "       [2.63087990e-02],\n",
              "       [4.14593304e-02],\n",
              "       [7.78718366e-02],\n",
              "       [3.75722986e-03],\n",
              "       [2.80975991e-01],\n",
              "       [3.88602123e-01],\n",
              "       [0.00000000e+00],\n",
              "       [1.52864044e-01],\n",
              "       [8.27331397e-03],\n",
              "       [3.49876069e-02],\n",
              "       [6.48402508e-02],\n",
              "       [2.70041810e-02],\n",
              "       [3.29115651e-04],\n",
              "       [2.38417816e-03],\n",
              "       [1.24184273e-01],\n",
              "       [1.53609929e-01],\n",
              "       [1.14561248e-03],\n",
              "       [5.28336446e-02],\n",
              "       [1.00252668e-02],\n",
              "       [1.29623818e-05],\n",
              "       [5.21485396e-02],\n",
              "       [3.21025120e-02],\n",
              "       [5.18016721e-03],\n",
              "       [5.75091089e-03],\n",
              "       [1.78043841e-01],\n",
              "       [1.37599888e-02],\n",
              "       [5.42796023e-02],\n",
              "       [1.63480995e-01],\n",
              "       [1.39528287e-01],\n",
              "       [7.88883906e-02],\n",
              "       [4.60599229e-03],\n",
              "       [1.24816319e-01],\n",
              "       [1.55767234e-02],\n",
              "       [1.29034297e-01],\n",
              "       [1.51170416e-03],\n",
              "       [1.82458523e-02],\n",
              "       [1.73527617e-02],\n",
              "       [3.94673780e-03],\n",
              "       [4.16444916e-03],\n",
              "       [1.28234823e-01],\n",
              "       [2.43539977e-02],\n",
              "       [9.20070061e-03],\n",
              "       [5.28332386e-02],\n",
              "       [1.50306389e-01],\n",
              "       [8.56175517e-02],\n",
              "       [5.17108021e-02],\n",
              "       [2.77418001e-01],\n",
              "       [2.87424620e-01],\n",
              "       [3.67625172e-05],\n",
              "       [1.67280634e-02],\n",
              "       [3.49817604e-01],\n",
              "       [2.18357938e-02],\n",
              "       [9.52440021e-03],\n",
              "       [5.14746561e-02],\n",
              "       [3.06486546e-03],\n",
              "       [1.06180708e-01],\n",
              "       [5.37584466e-02],\n",
              "       [6.18313100e-03],\n",
              "       [1.32235595e-01],\n",
              "       [8.22649542e-02],\n",
              "       [5.53868205e-02],\n",
              "       [1.41066252e-01],\n",
              "       [1.41316269e-02],\n",
              "       [2.92340718e-02],\n",
              "       [1.09661479e-01],\n",
              "       [7.95409282e-03],\n",
              "       [2.39102797e-02],\n",
              "       [1.60254425e-01],\n",
              "       [4.62399219e-03],\n",
              "       [1.41195799e-01],\n",
              "       [7.49954703e-02],\n",
              "       [1.29820843e-01],\n",
              "       [1.33690683e-01],\n",
              "       [2.26777630e-01],\n",
              "       [1.68635308e-02],\n",
              "       [5.83064678e-02],\n",
              "       [1.28097237e-02],\n",
              "       [2.67583482e-02],\n",
              "       [4.15283333e-02],\n",
              "       [9.20043616e-02],\n",
              "       [1.42231241e-03],\n",
              "       [1.27327085e-02],\n",
              "       [2.85754902e-03],\n",
              "       [4.83168452e-02],\n",
              "       [3.12246227e-02],\n",
              "       [9.75266429e-02],\n",
              "       [6.42560135e-02],\n",
              "       [5.44842847e-05],\n",
              "       [6.90482815e-02],\n",
              "       [6.83210510e-02],\n",
              "       [5.92841140e-02],\n",
              "       [1.00000000e+00],\n",
              "       [1.62890516e-03],\n",
              "       [1.82018067e-01],\n",
              "       [1.15629730e-02],\n",
              "       [6.89866987e-03],\n",
              "       [4.55955965e-03],\n",
              "       [1.19641749e-01],\n",
              "       [7.51963779e-02],\n",
              "       [7.33705284e-02],\n",
              "       [3.13197644e-01],\n",
              "       [5.36322886e-02],\n",
              "       [2.13349737e-02],\n",
              "       [8.79325584e-02],\n",
              "       [1.15999756e-02],\n",
              "       [4.75982026e-01],\n",
              "       [3.75906196e-02],\n",
              "       [2.71035928e-01],\n",
              "       [1.68177136e-01],\n",
              "       [2.33875925e-03],\n",
              "       [1.75790503e-01],\n",
              "       [1.10210424e-01],\n",
              "       [1.91829426e-02],\n",
              "       [1.39024714e-01],\n",
              "       [4.30091385e-02],\n",
              "       [6.30735825e-02],\n",
              "       [9.11283578e-03],\n",
              "       [1.03807962e-02],\n",
              "       [1.36653100e-02],\n",
              "       [1.14749860e-02],\n",
              "       [9.52377585e-02],\n",
              "       [7.60881908e-03],\n",
              "       [3.30429830e-02],\n",
              "       [4.86560533e-03],\n",
              "       [2.36255936e-01],\n",
              "       [4.71340319e-02],\n",
              "       [8.50384113e-03],\n",
              "       [6.14352613e-03],\n",
              "       [6.12813964e-02],\n",
              "       [5.56846453e-03],\n",
              "       [6.08345541e-02],\n",
              "       [5.92502099e-02],\n",
              "       [8.26389261e-04],\n",
              "       [1.14659928e-02],\n",
              "       [1.25917034e-02],\n",
              "       [1.91694233e-02],\n",
              "       [3.49534943e-02],\n",
              "       [1.37608218e-01],\n",
              "       [1.12542277e-03],\n",
              "       [3.19220337e-04],\n",
              "       [7.03950203e-03],\n",
              "       [7.43269903e-02],\n",
              "       [9.81979464e-01],\n",
              "       [2.43437989e-01],\n",
              "       [3.70083088e-02],\n",
              "       [1.88359820e-02],\n",
              "       [4.97324594e-03],\n",
              "       [4.39251718e-02],\n",
              "       [3.72599743e-01],\n",
              "       [4.76379673e-02],\n",
              "       [7.75873766e-02],\n",
              "       [2.64786178e-02],\n",
              "       [3.51098304e-02],\n",
              "       [1.79045872e-02],\n",
              "       [1.13789022e-01],\n",
              "       [5.52908318e-02],\n",
              "       [9.31176163e-02],\n",
              "       [8.76569577e-02],\n",
              "       [7.27569874e-03],\n",
              "       [2.18742588e-02],\n",
              "       [9.76337024e-02],\n",
              "       [8.66458816e-03],\n",
              "       [3.00657569e-02],\n",
              "       [2.11202587e-01],\n",
              "       [1.16485401e-01],\n",
              "       [1.58534128e-02],\n",
              "       [6.54235371e-02],\n",
              "       [2.00712984e-02],\n",
              "       [3.64654590e-01],\n",
              "       [6.71790173e-02],\n",
              "       [5.81284797e-02],\n",
              "       [4.90896790e-01],\n",
              "       [1.71911214e-02],\n",
              "       [4.04698446e-02],\n",
              "       [1.60210071e-02],\n",
              "       [1.99145891e-02],\n",
              "       [4.82751570e-02],\n",
              "       [1.63898187e-02],\n",
              "       [5.84762163e-03],\n",
              "       [2.26453188e-01],\n",
              "       [5.02491946e-03],\n",
              "       [1.23515595e-02],\n",
              "       [9.53069147e-02],\n",
              "       [4.55770767e-01],\n",
              "       [1.74368189e-01],\n",
              "       [1.64708407e-02],\n",
              "       [7.80657245e-02],\n",
              "       [8.52257433e-03],\n",
              "       [3.22287821e-01],\n",
              "       [2.08743263e-01],\n",
              "       [2.79543461e-01],\n",
              "       [3.79211009e-05],\n",
              "       [1.08830902e-01],\n",
              "       [4.77980882e-03],\n",
              "       [1.97157386e-02],\n",
              "       [2.64943764e-02],\n",
              "       [1.70651388e-03],\n",
              "       [6.04305488e-02],\n",
              "       [4.74899845e-03],\n",
              "       [7.71439124e-02],\n",
              "       [2.25799454e-06],\n",
              "       [1.91051757e-02],\n",
              "       [2.26250113e-01],\n",
              "       [6.28304271e-02],\n",
              "       [2.62754970e-02],\n",
              "       [4.52699695e-01],\n",
              "       [1.54133517e-01],\n",
              "       [1.58238896e-02],\n",
              "       [7.41601086e-02],\n",
              "       [8.79048522e-02],\n",
              "       [3.21553413e-02],\n",
              "       [1.10441661e-01],\n",
              "       [5.95054830e-02],\n",
              "       [7.40166847e-04],\n",
              "       [2.32812785e-01],\n",
              "       [3.76436163e-01],\n",
              "       [2.14379350e-02],\n",
              "       [8.43592485e-02],\n",
              "       [8.94382758e-03],\n",
              "       [1.26260112e-01],\n",
              "       [4.68535257e-02],\n",
              "       [2.23078981e-01],\n",
              "       [3.13408423e-02],\n",
              "       [6.94715077e-01],\n",
              "       [4.38002007e-02],\n",
              "       [3.07160914e-01],\n",
              "       [8.72359405e-02],\n",
              "       [4.97546609e-02],\n",
              "       [5.16046266e-06],\n",
              "       [2.05819663e-02],\n",
              "       [1.03386878e-01],\n",
              "       [4.11719677e-02],\n",
              "       [7.09376411e-02],\n",
              "       [6.26621645e-02],\n",
              "       [3.45073248e-02],\n",
              "       [1.51191853e-01],\n",
              "       [1.07723035e-01],\n",
              "       [4.01325324e-03],\n",
              "       [1.79850497e-02]])"
            ]
          },
          "metadata": {
            "tags": []
          },
          "execution_count": 45
        }
      ]
    },
    {
      "cell_type": "code",
      "metadata": {
        "id": "fvlqTi3o7CLn",
        "outputId": "ecfda2e5-510e-4e2a-c3f2-765149e852ca",
        "colab": {
          "base_uri": "https://localhost:8080/",
          "height": 68
        }
      },
      "source": [
        "from sklearn.preprocessing import StandardScaler\n",
        "range_scaler=StandardScaler()\n",
        "range_scaler.fit(vector.reshape(-1,1))\n",
        "range_scaler_vector=range_scaler.transform(vector.reshape(-1,1))\n",
        "print(\"Mean\",np.mean(range_scaler_vector))\n",
        "print(\"SD\",np.std(range_scaler_vector))\n",
        "print(\"Range\",max(range_scaler_vector)-min(range_scaler_vector))"
      ],
      "execution_count": null,
      "outputs": [
        {
          "output_type": "stream",
          "text": [
            "Mean 2.1316282072803006e-17\n",
            "SD 1.0\n",
            "Range [6.90659968]\n"
          ],
          "name": "stdout"
        }
      ]
    },
    {
      "cell_type": "code",
      "metadata": {
        "id": "n3Gyi08D7B-6",
        "outputId": "0cd037e3-d27e-414f-942f-f0eef7a482de",
        "colab": {
          "base_uri": "https://localhost:8080/",
          "height": 238
        }
      },
      "source": [
        "# Binning\n",
        "diabetes.head()"
      ],
      "execution_count": null,
      "outputs": [
        {
          "output_type": "execute_result",
          "data": {
            "text/html": [
              "<div>\n",
              "<style scoped>\n",
              "    .dataframe tbody tr th:only-of-type {\n",
              "        vertical-align: middle;\n",
              "    }\n",
              "\n",
              "    .dataframe tbody tr th {\n",
              "        vertical-align: top;\n",
              "    }\n",
              "\n",
              "    .dataframe thead th {\n",
              "        text-align: right;\n",
              "    }\n",
              "</style>\n",
              "<table border=\"1\" class=\"dataframe\">\n",
              "  <thead>\n",
              "    <tr style=\"text-align: right;\">\n",
              "      <th></th>\n",
              "      <th>Number of times perganant</th>\n",
              "      <th>Plasms glucose</th>\n",
              "      <th>Diatolic Blood Pressure</th>\n",
              "      <th>Triceps skin fold thickness</th>\n",
              "      <th>2-Hours serum Insulin</th>\n",
              "      <th>Body Mass Index</th>\n",
              "      <th>Deibetes pedigree function</th>\n",
              "      <th>Age(years)</th>\n",
              "      <th>Target</th>\n",
              "    </tr>\n",
              "  </thead>\n",
              "  <tbody>\n",
              "    <tr>\n",
              "      <th>0</th>\n",
              "      <td>6</td>\n",
              "      <td>148.0</td>\n",
              "      <td>72.0</td>\n",
              "      <td>35.0</td>\n",
              "      <td>NaN</td>\n",
              "      <td>33.6</td>\n",
              "      <td>0.627</td>\n",
              "      <td>50</td>\n",
              "      <td>1</td>\n",
              "    </tr>\n",
              "    <tr>\n",
              "      <th>1</th>\n",
              "      <td>1</td>\n",
              "      <td>85.0</td>\n",
              "      <td>66.0</td>\n",
              "      <td>29.0</td>\n",
              "      <td>NaN</td>\n",
              "      <td>26.6</td>\n",
              "      <td>0.351</td>\n",
              "      <td>31</td>\n",
              "      <td>0</td>\n",
              "    </tr>\n",
              "    <tr>\n",
              "      <th>2</th>\n",
              "      <td>8</td>\n",
              "      <td>183.0</td>\n",
              "      <td>64.0</td>\n",
              "      <td>NaN</td>\n",
              "      <td>NaN</td>\n",
              "      <td>23.3</td>\n",
              "      <td>0.672</td>\n",
              "      <td>32</td>\n",
              "      <td>1</td>\n",
              "    </tr>\n",
              "    <tr>\n",
              "      <th>3</th>\n",
              "      <td>1</td>\n",
              "      <td>89.0</td>\n",
              "      <td>66.0</td>\n",
              "      <td>23.0</td>\n",
              "      <td>94.0</td>\n",
              "      <td>28.1</td>\n",
              "      <td>0.167</td>\n",
              "      <td>21</td>\n",
              "      <td>0</td>\n",
              "    </tr>\n",
              "    <tr>\n",
              "      <th>4</th>\n",
              "      <td>0</td>\n",
              "      <td>137.0</td>\n",
              "      <td>40.0</td>\n",
              "      <td>35.0</td>\n",
              "      <td>168.0</td>\n",
              "      <td>43.1</td>\n",
              "      <td>2.288</td>\n",
              "      <td>33</td>\n",
              "      <td>1</td>\n",
              "    </tr>\n",
              "  </tbody>\n",
              "</table>\n",
              "</div>"
            ],
            "text/plain": [
              "   Number of times perganant  Plasms glucose  ...  Age(years)  Target\n",
              "0                          6           148.0  ...          50       1\n",
              "1                          1            85.0  ...          31       0\n",
              "2                          8           183.0  ...          32       1\n",
              "3                          1            89.0  ...          21       0\n",
              "4                          0           137.0  ...          33       1\n",
              "\n",
              "[5 rows x 9 columns]"
            ]
          },
          "metadata": {
            "tags": []
          },
          "execution_count": 47
        }
      ]
    },
    {
      "cell_type": "code",
      "metadata": {
        "id": "YcZMgWqSGo-i",
        "outputId": "9d23ee1c-7584-48fe-da9a-d8d7027c0234",
        "colab": {
          "base_uri": "https://localhost:8080/",
          "height": 272
        }
      },
      "source": [
        "bins = [0,25,30,35,40,100]\n",
        "group_names=['malnutrition','Under-weight','Healthy','Over-weight','Obese']\n",
        "diabetes['BMI class']=pd.cut(diabetes['Body Mass Index'],bins,labels=group_names)\n",
        "diabetes.head()"
      ],
      "execution_count": null,
      "outputs": [
        {
          "output_type": "execute_result",
          "data": {
            "text/html": [
              "<div>\n",
              "<style scoped>\n",
              "    .dataframe tbody tr th:only-of-type {\n",
              "        vertical-align: middle;\n",
              "    }\n",
              "\n",
              "    .dataframe tbody tr th {\n",
              "        vertical-align: top;\n",
              "    }\n",
              "\n",
              "    .dataframe thead th {\n",
              "        text-align: right;\n",
              "    }\n",
              "</style>\n",
              "<table border=\"1\" class=\"dataframe\">\n",
              "  <thead>\n",
              "    <tr style=\"text-align: right;\">\n",
              "      <th></th>\n",
              "      <th>Number of times perganant</th>\n",
              "      <th>Plasms glucose</th>\n",
              "      <th>Diatolic Blood Pressure</th>\n",
              "      <th>Triceps skin fold thickness</th>\n",
              "      <th>2-Hours serum Insulin</th>\n",
              "      <th>Body Mass Index</th>\n",
              "      <th>Deibetes pedigree function</th>\n",
              "      <th>Age(years)</th>\n",
              "      <th>Target</th>\n",
              "      <th>BMI class</th>\n",
              "    </tr>\n",
              "  </thead>\n",
              "  <tbody>\n",
              "    <tr>\n",
              "      <th>0</th>\n",
              "      <td>6</td>\n",
              "      <td>148.0</td>\n",
              "      <td>72.0</td>\n",
              "      <td>35.0</td>\n",
              "      <td>NaN</td>\n",
              "      <td>33.6</td>\n",
              "      <td>0.627</td>\n",
              "      <td>50</td>\n",
              "      <td>1</td>\n",
              "      <td>Healthy</td>\n",
              "    </tr>\n",
              "    <tr>\n",
              "      <th>1</th>\n",
              "      <td>1</td>\n",
              "      <td>85.0</td>\n",
              "      <td>66.0</td>\n",
              "      <td>29.0</td>\n",
              "      <td>NaN</td>\n",
              "      <td>26.6</td>\n",
              "      <td>0.351</td>\n",
              "      <td>31</td>\n",
              "      <td>0</td>\n",
              "      <td>Under-weight</td>\n",
              "    </tr>\n",
              "    <tr>\n",
              "      <th>2</th>\n",
              "      <td>8</td>\n",
              "      <td>183.0</td>\n",
              "      <td>64.0</td>\n",
              "      <td>NaN</td>\n",
              "      <td>NaN</td>\n",
              "      <td>23.3</td>\n",
              "      <td>0.672</td>\n",
              "      <td>32</td>\n",
              "      <td>1</td>\n",
              "      <td>malnutrition</td>\n",
              "    </tr>\n",
              "    <tr>\n",
              "      <th>3</th>\n",
              "      <td>1</td>\n",
              "      <td>89.0</td>\n",
              "      <td>66.0</td>\n",
              "      <td>23.0</td>\n",
              "      <td>94.0</td>\n",
              "      <td>28.1</td>\n",
              "      <td>0.167</td>\n",
              "      <td>21</td>\n",
              "      <td>0</td>\n",
              "      <td>Under-weight</td>\n",
              "    </tr>\n",
              "    <tr>\n",
              "      <th>4</th>\n",
              "      <td>0</td>\n",
              "      <td>137.0</td>\n",
              "      <td>40.0</td>\n",
              "      <td>35.0</td>\n",
              "      <td>168.0</td>\n",
              "      <td>43.1</td>\n",
              "      <td>2.288</td>\n",
              "      <td>33</td>\n",
              "      <td>1</td>\n",
              "      <td>Obese</td>\n",
              "    </tr>\n",
              "  </tbody>\n",
              "</table>\n",
              "</div>"
            ],
            "text/plain": [
              "   Number of times perganant  Plasms glucose  ...  Target     BMI class\n",
              "0                          6           148.0  ...       1       Healthy\n",
              "1                          1            85.0  ...       0  Under-weight\n",
              "2                          8           183.0  ...       1  malnutrition\n",
              "3                          1            89.0  ...       0  Under-weight\n",
              "4                          0           137.0  ...       1         Obese\n",
              "\n",
              "[5 rows x 10 columns]"
            ]
          },
          "metadata": {
            "tags": []
          },
          "execution_count": 49
        }
      ]
    },
    {
      "cell_type": "code",
      "metadata": {
        "id": "na2PG2fnGpM_"
      },
      "source": [
        "# Dummification/One Hot encoding\n",
        "dummified_data=pd.concat([diabetes.iloc[:,:-1],pd.get_dummies(diabetes['BMI class'])],axis=1)"
      ],
      "execution_count": null,
      "outputs": []
    },
    {
      "cell_type": "code",
      "metadata": {
        "id": "AloXmjvOGpn0",
        "outputId": "286bae87-9a7e-4cd6-bca6-431effcb8f92",
        "colab": {
          "base_uri": "https://localhost:8080/",
          "height": 258
        }
      },
      "source": [
        "dummified_data.head()"
      ],
      "execution_count": null,
      "outputs": [
        {
          "output_type": "execute_result",
          "data": {
            "text/html": [
              "<div>\n",
              "<style scoped>\n",
              "    .dataframe tbody tr th:only-of-type {\n",
              "        vertical-align: middle;\n",
              "    }\n",
              "\n",
              "    .dataframe tbody tr th {\n",
              "        vertical-align: top;\n",
              "    }\n",
              "\n",
              "    .dataframe thead th {\n",
              "        text-align: right;\n",
              "    }\n",
              "</style>\n",
              "<table border=\"1\" class=\"dataframe\">\n",
              "  <thead>\n",
              "    <tr style=\"text-align: right;\">\n",
              "      <th></th>\n",
              "      <th>Number of times perganant</th>\n",
              "      <th>Plasms glucose</th>\n",
              "      <th>Diatolic Blood Pressure</th>\n",
              "      <th>Triceps skin fold thickness</th>\n",
              "      <th>2-Hours serum Insulin</th>\n",
              "      <th>Body Mass Index</th>\n",
              "      <th>Deibetes pedigree function</th>\n",
              "      <th>Age(years)</th>\n",
              "      <th>Target</th>\n",
              "      <th>malnutrition</th>\n",
              "      <th>Under-weight</th>\n",
              "      <th>Healthy</th>\n",
              "      <th>Over-weight</th>\n",
              "      <th>Obese</th>\n",
              "    </tr>\n",
              "  </thead>\n",
              "  <tbody>\n",
              "    <tr>\n",
              "      <th>0</th>\n",
              "      <td>6</td>\n",
              "      <td>148.0</td>\n",
              "      <td>72.0</td>\n",
              "      <td>35.0</td>\n",
              "      <td>NaN</td>\n",
              "      <td>33.6</td>\n",
              "      <td>0.627</td>\n",
              "      <td>50</td>\n",
              "      <td>1</td>\n",
              "      <td>0</td>\n",
              "      <td>0</td>\n",
              "      <td>1</td>\n",
              "      <td>0</td>\n",
              "      <td>0</td>\n",
              "    </tr>\n",
              "    <tr>\n",
              "      <th>1</th>\n",
              "      <td>1</td>\n",
              "      <td>85.0</td>\n",
              "      <td>66.0</td>\n",
              "      <td>29.0</td>\n",
              "      <td>NaN</td>\n",
              "      <td>26.6</td>\n",
              "      <td>0.351</td>\n",
              "      <td>31</td>\n",
              "      <td>0</td>\n",
              "      <td>0</td>\n",
              "      <td>1</td>\n",
              "      <td>0</td>\n",
              "      <td>0</td>\n",
              "      <td>0</td>\n",
              "    </tr>\n",
              "    <tr>\n",
              "      <th>2</th>\n",
              "      <td>8</td>\n",
              "      <td>183.0</td>\n",
              "      <td>64.0</td>\n",
              "      <td>NaN</td>\n",
              "      <td>NaN</td>\n",
              "      <td>23.3</td>\n",
              "      <td>0.672</td>\n",
              "      <td>32</td>\n",
              "      <td>1</td>\n",
              "      <td>1</td>\n",
              "      <td>0</td>\n",
              "      <td>0</td>\n",
              "      <td>0</td>\n",
              "      <td>0</td>\n",
              "    </tr>\n",
              "    <tr>\n",
              "      <th>3</th>\n",
              "      <td>1</td>\n",
              "      <td>89.0</td>\n",
              "      <td>66.0</td>\n",
              "      <td>23.0</td>\n",
              "      <td>94.0</td>\n",
              "      <td>28.1</td>\n",
              "      <td>0.167</td>\n",
              "      <td>21</td>\n",
              "      <td>0</td>\n",
              "      <td>0</td>\n",
              "      <td>1</td>\n",
              "      <td>0</td>\n",
              "      <td>0</td>\n",
              "      <td>0</td>\n",
              "    </tr>\n",
              "    <tr>\n",
              "      <th>4</th>\n",
              "      <td>0</td>\n",
              "      <td>137.0</td>\n",
              "      <td>40.0</td>\n",
              "      <td>35.0</td>\n",
              "      <td>168.0</td>\n",
              "      <td>43.1</td>\n",
              "      <td>2.288</td>\n",
              "      <td>33</td>\n",
              "      <td>1</td>\n",
              "      <td>0</td>\n",
              "      <td>0</td>\n",
              "      <td>0</td>\n",
              "      <td>0</td>\n",
              "      <td>1</td>\n",
              "    </tr>\n",
              "  </tbody>\n",
              "</table>\n",
              "</div>"
            ],
            "text/plain": [
              "   Number of times perganant  Plasms glucose  ...  Over-weight  Obese\n",
              "0                          6           148.0  ...            0      0\n",
              "1                          1            85.0  ...            0      0\n",
              "2                          8           183.0  ...            0      0\n",
              "3                          1            89.0  ...            0      0\n",
              "4                          0           137.0  ...            0      1\n",
              "\n",
              "[5 rows x 14 columns]"
            ]
          },
          "metadata": {
            "tags": []
          },
          "execution_count": 51
        }
      ]
    },
    {
      "cell_type": "code",
      "metadata": {
        "id": "pqDSfBciGqJL",
        "outputId": "a61135a1-c6b4-473d-ac9b-63568c104e51",
        "colab": {
          "base_uri": "https://localhost:8080/",
          "height": 204
        }
      },
      "source": [
        "diabetes.dtypes"
      ],
      "execution_count": null,
      "outputs": [
        {
          "output_type": "execute_result",
          "data": {
            "text/plain": [
              "Number of times perganant         int64\n",
              "Plasms glucose                  float64\n",
              "Diatolic Blood Pressure         float64\n",
              "Triceps skin fold thickness     float64\n",
              "2-Hours serum Insulin           float64\n",
              "Body Mass Index                 float64\n",
              "Deibetes pedigree function      float64\n",
              "Age(years)                        int64\n",
              "Target                            int64\n",
              "BMI class                      category\n",
              "dtype: object"
            ]
          },
          "metadata": {
            "tags": []
          },
          "execution_count": 52
        }
      ]
    },
    {
      "cell_type": "code",
      "metadata": {
        "id": "9YhYnq9BGqBa"
      },
      "source": [
        "# Label Encoding\n",
        "diabetes['BMI class']=diabetes['BMI class'].astype('category')\n",
        "diabetes['BMI class code']=diabetes['BMI class'].cat.codes"
      ],
      "execution_count": null,
      "outputs": []
    },
    {
      "cell_type": "code",
      "metadata": {
        "id": "EQjhYib1Gp4E",
        "outputId": "120e1405-8fb4-4443-d23c-ba8b4d8bb5a6",
        "colab": {
          "base_uri": "https://localhost:8080/",
          "height": 419
        }
      },
      "source": [
        "diabetes[[\"BMI class code\",'BMI class']]"
      ],
      "execution_count": null,
      "outputs": [
        {
          "output_type": "execute_result",
          "data": {
            "text/html": [
              "<div>\n",
              "<style scoped>\n",
              "    .dataframe tbody tr th:only-of-type {\n",
              "        vertical-align: middle;\n",
              "    }\n",
              "\n",
              "    .dataframe tbody tr th {\n",
              "        vertical-align: top;\n",
              "    }\n",
              "\n",
              "    .dataframe thead th {\n",
              "        text-align: right;\n",
              "    }\n",
              "</style>\n",
              "<table border=\"1\" class=\"dataframe\">\n",
              "  <thead>\n",
              "    <tr style=\"text-align: right;\">\n",
              "      <th></th>\n",
              "      <th>BMI class code</th>\n",
              "      <th>BMI class</th>\n",
              "    </tr>\n",
              "  </thead>\n",
              "  <tbody>\n",
              "    <tr>\n",
              "      <th>0</th>\n",
              "      <td>2</td>\n",
              "      <td>Healthy</td>\n",
              "    </tr>\n",
              "    <tr>\n",
              "      <th>1</th>\n",
              "      <td>1</td>\n",
              "      <td>Under-weight</td>\n",
              "    </tr>\n",
              "    <tr>\n",
              "      <th>2</th>\n",
              "      <td>0</td>\n",
              "      <td>malnutrition</td>\n",
              "    </tr>\n",
              "    <tr>\n",
              "      <th>3</th>\n",
              "      <td>1</td>\n",
              "      <td>Under-weight</td>\n",
              "    </tr>\n",
              "    <tr>\n",
              "      <th>4</th>\n",
              "      <td>4</td>\n",
              "      <td>Obese</td>\n",
              "    </tr>\n",
              "    <tr>\n",
              "      <th>...</th>\n",
              "      <td>...</td>\n",
              "      <td>...</td>\n",
              "    </tr>\n",
              "    <tr>\n",
              "      <th>763</th>\n",
              "      <td>2</td>\n",
              "      <td>Healthy</td>\n",
              "    </tr>\n",
              "    <tr>\n",
              "      <th>764</th>\n",
              "      <td>3</td>\n",
              "      <td>Over-weight</td>\n",
              "    </tr>\n",
              "    <tr>\n",
              "      <th>765</th>\n",
              "      <td>1</td>\n",
              "      <td>Under-weight</td>\n",
              "    </tr>\n",
              "    <tr>\n",
              "      <th>766</th>\n",
              "      <td>2</td>\n",
              "      <td>Healthy</td>\n",
              "    </tr>\n",
              "    <tr>\n",
              "      <th>767</th>\n",
              "      <td>2</td>\n",
              "      <td>Healthy</td>\n",
              "    </tr>\n",
              "  </tbody>\n",
              "</table>\n",
              "<p>768 rows × 2 columns</p>\n",
              "</div>"
            ],
            "text/plain": [
              "     BMI class code     BMI class\n",
              "0                 2       Healthy\n",
              "1                 1  Under-weight\n",
              "2                 0  malnutrition\n",
              "3                 1  Under-weight\n",
              "4                 4         Obese\n",
              "..              ...           ...\n",
              "763               2       Healthy\n",
              "764               3   Over-weight\n",
              "765               1  Under-weight\n",
              "766               2       Healthy\n",
              "767               2       Healthy\n",
              "\n",
              "[768 rows x 2 columns]"
            ]
          },
          "metadata": {
            "tags": []
          },
          "execution_count": 54
        }
      ]
    },
    {
      "cell_type": "code",
      "metadata": {
        "id": "viMp4CstGpev"
      },
      "source": [
        "from sklearn.preprocessing import LabelEncoder\n",
        "labelencoder = LabelEncoder()\n",
        "diabetes[\"BMI class label\"]=labelencoder.fit_transform(diabetes[\"BMI class\"].astype(str))"
      ],
      "execution_count": null,
      "outputs": []
    },
    {
      "cell_type": "code",
      "metadata": {
        "id": "HmEK8SulMfkg",
        "outputId": "7701ae05-ca62-42a3-ef0a-e52cdd0345dd",
        "colab": {
          "base_uri": "https://localhost:8080/",
          "height": 419
        }
      },
      "source": [
        "diabetes[[\"BMI class label\",\"BMI class\"]]"
      ],
      "execution_count": null,
      "outputs": [
        {
          "output_type": "execute_result",
          "data": {
            "text/html": [
              "<div>\n",
              "<style scoped>\n",
              "    .dataframe tbody tr th:only-of-type {\n",
              "        vertical-align: middle;\n",
              "    }\n",
              "\n",
              "    .dataframe tbody tr th {\n",
              "        vertical-align: top;\n",
              "    }\n",
              "\n",
              "    .dataframe thead th {\n",
              "        text-align: right;\n",
              "    }\n",
              "</style>\n",
              "<table border=\"1\" class=\"dataframe\">\n",
              "  <thead>\n",
              "    <tr style=\"text-align: right;\">\n",
              "      <th></th>\n",
              "      <th>BMI class label</th>\n",
              "      <th>BMI class</th>\n",
              "    </tr>\n",
              "  </thead>\n",
              "  <tbody>\n",
              "    <tr>\n",
              "      <th>0</th>\n",
              "      <td>0</td>\n",
              "      <td>Healthy</td>\n",
              "    </tr>\n",
              "    <tr>\n",
              "      <th>1</th>\n",
              "      <td>3</td>\n",
              "      <td>Under-weight</td>\n",
              "    </tr>\n",
              "    <tr>\n",
              "      <th>2</th>\n",
              "      <td>4</td>\n",
              "      <td>malnutrition</td>\n",
              "    </tr>\n",
              "    <tr>\n",
              "      <th>3</th>\n",
              "      <td>3</td>\n",
              "      <td>Under-weight</td>\n",
              "    </tr>\n",
              "    <tr>\n",
              "      <th>4</th>\n",
              "      <td>1</td>\n",
              "      <td>Obese</td>\n",
              "    </tr>\n",
              "    <tr>\n",
              "      <th>...</th>\n",
              "      <td>...</td>\n",
              "      <td>...</td>\n",
              "    </tr>\n",
              "    <tr>\n",
              "      <th>763</th>\n",
              "      <td>0</td>\n",
              "      <td>Healthy</td>\n",
              "    </tr>\n",
              "    <tr>\n",
              "      <th>764</th>\n",
              "      <td>2</td>\n",
              "      <td>Over-weight</td>\n",
              "    </tr>\n",
              "    <tr>\n",
              "      <th>765</th>\n",
              "      <td>3</td>\n",
              "      <td>Under-weight</td>\n",
              "    </tr>\n",
              "    <tr>\n",
              "      <th>766</th>\n",
              "      <td>0</td>\n",
              "      <td>Healthy</td>\n",
              "    </tr>\n",
              "    <tr>\n",
              "      <th>767</th>\n",
              "      <td>0</td>\n",
              "      <td>Healthy</td>\n",
              "    </tr>\n",
              "  </tbody>\n",
              "</table>\n",
              "<p>768 rows × 2 columns</p>\n",
              "</div>"
            ],
            "text/plain": [
              "     BMI class label     BMI class\n",
              "0                  0       Healthy\n",
              "1                  3  Under-weight\n",
              "2                  4  malnutrition\n",
              "3                  3  Under-weight\n",
              "4                  1         Obese\n",
              "..               ...           ...\n",
              "763                0       Healthy\n",
              "764                2   Over-weight\n",
              "765                3  Under-weight\n",
              "766                0       Healthy\n",
              "767                0       Healthy\n",
              "\n",
              "[768 rows x 2 columns]"
            ]
          },
          "metadata": {
            "tags": []
          },
          "execution_count": 58
        }
      ]
    }
  ]
}